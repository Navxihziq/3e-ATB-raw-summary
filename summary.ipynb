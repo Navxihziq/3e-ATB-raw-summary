{
 "cells": [
  {
   "cell_type": "markdown",
   "source": [
    "# Summary\n",
    "This notebook is used to automatically extract data from ATB yearly workbook file and generate summary accordingly to the specification."
   ],
   "metadata": {
    "collapsed": false,
    "pycharm": {
     "name": "#%% md\n"
    }
   }
  },
  {
   "cell_type": "markdown",
   "source": [
    "## Getting Ready\n",
    "- Here, we first import the package needed, and identify the path to files;\n",
    "    - 2 paths to files are required here:\n",
    "        1. raw_data_path: the path to the raw data file\n",
    "        2. ancillary_path: the path to the ancillary file which declares the scope of tech and index of interest.\n",
    "\n",
    "- Make 2 lists out of the ancillary file"
   ],
   "metadata": {
    "collapsed": false,
    "pycharm": {
     "name": "#%% md\n"
    }
   }
  },
  {
   "cell_type": "code",
   "execution_count": 65,
   "outputs": [],
   "source": [
    "import pandas as pd"
   ],
   "metadata": {
    "collapsed": false,
    "pycharm": {
     "name": "#%%\n"
    }
   }
  },
  {
   "cell_type": "code",
   "execution_count": 66,
   "outputs": [],
   "source": [
    "raw_data_path = '/Users/zhixuan/PycharmProjects/ATB-Raw-Summarization/data/2022 v2 Annual Technology Baseline Workbook Corrected 7-21-2022.xlsx'\n",
    "\n",
    "ancillary_path = '/Users/zhixuan/PycharmProjects/ATB-Raw-Summarization/data/ancillary.xlsx'\n",
    "\n",
    "raw = pd.ExcelFile(raw_data_path)\n",
    "\n",
    "summary_path = '/Users/zhixuan/PycharmProjects/ATB-Raw-Summarization/data/summary.xlsx'\n",
    "\n",
    "del raw_data_path"
   ],
   "metadata": {
    "collapsed": false,
    "pycharm": {
     "name": "#%%\n"
    }
   }
  },
  {
   "cell_type": "code",
   "execution_count": 67,
   "outputs": [],
   "source": [
    "ancillary = pd.read_excel(ancillary_path)\n",
    "\n",
    "# tech: sheet dictionary\n",
    "tech_sheet_dict = dict(ancillary[['Tech', 'Sheet']].values)\n",
    "\n",
    "# make tech list out of ancillary\n",
    "tech_list = list(ancillary['Tech'].values)\n",
    "\n",
    "# make index list out of ancillary\n",
    "index_list = list(ancillary['Index'].dropna().values)\n",
    "\n",
    "# make year list out of anicllary\n",
    "year_list = list(ancillary['Year'].dropna().values)\n",
    "\n",
    "# flush-flush\n",
    "del ancillary, ancillary_path"
   ],
   "metadata": {
    "collapsed": false,
    "pycharm": {
     "name": "#%%\n"
    }
   }
  },
  {
   "cell_type": "markdown",
   "source": [
    "## Main loop\n",
    "- Iterate over tech sheets needed, and get rid of the extraneous rows.\n",
    "- Make a dictionary of each sheet to store their corresponding dataframe"
   ],
   "metadata": {
    "collapsed": false,
    "pycharm": {
     "name": "#%% md\n"
    }
   }
  },
  {
   "cell_type": "code",
   "execution_count": 68,
   "outputs": [],
   "source": [
    "# get all the name of the sheets -> intersect with tech list\n",
    "sheet_list = list(set(raw.sheet_names) & set(tech_list))\n",
    "sub_tech_list = list(set(tech_list)-set(sheet_list))"
   ],
   "metadata": {
    "collapsed": false,
    "pycharm": {
     "name": "#%%\n"
    }
   }
  },
  {
   "cell_type": "code",
   "execution_count": 69,
   "outputs": [],
   "source": [
    "sheets = {}\n",
    "last_i = None\n",
    "\n",
    "# iterate through all sheets level techs\n",
    "for sheet in sheet_list:\n",
    "    # special specification for storages\n",
    "    if not (sheet.split()[-1] == 'Storage'):\n",
    "        sheet_df = pd.read_excel(raw, sheet_name=str(sheet)).iloc[:, 9:].dropna(how='all')\n",
    "    else:\n",
    "        sheet_df = pd.read_excel(raw, sheet_name=str(sheet)).iloc[:, 3:].dropna(how='all')\n",
    "    index = None\n",
    "    # iterate over rows\n",
    "    for i in range(len(sheet_df)):\n",
    "        # get the value on the current index column\n",
    "        working_index = sheet_df.iloc[i, 0]\n",
    "\n",
    "        if not pd.isna(working_index):\n",
    "            sheet_df.iloc[i-1, 0] = None    # get rid of the header (year) row\n",
    "            if working_index in index_list:\n",
    "                index = working_index\n",
    "                last_i = i\n",
    "            else:\n",
    "                index = None\n",
    "\n",
    "        sheet_df.iloc[i, 0] = index\n",
    "\n",
    "    # get the header\n",
    "    header = list(sheet_df.iloc[last_i-1, :].values)\n",
    "    header[0:3] = ['Index', 'Display Name', 'Scenario']\n",
    "    sheet_df.columns = header\n",
    "\n",
    "    sheet_df = sheet_df.dropna(how='any', subset=['Index']).reset_index(drop=True)\n",
    "    sheets[str(sheet)] = sheet_df"
   ],
   "metadata": {
    "collapsed": false,
    "pycharm": {
     "name": "#%%\n"
    }
   }
  },
  {
   "cell_type": "markdown",
   "source": [
    "- for those tech that is relatively more detailed, we shall first generate a dictionary of its correspondence to the parent sheet it belongs to.\n",
    "- For now, we are trying to match the sub-techs with the sheet which has a name that is most similar to it.\n",
    "- If it can't work, we will switch to some pristine methods for example manual specification. **which is likely the case** (modification on the ancillary file)"
   ],
   "metadata": {
    "collapsed": false,
    "pycharm": {
     "name": "#%% md\n"
    }
   }
  },
  {
   "cell_type": "markdown",
   "source": [
    "- for the main logic, there are generally 4 steps to follow;\n",
    "    1. iterate through all dataframe of different tech (and sub-tech)\n",
    "    2. iterate through different indexes (and select that subset of the dataframe)\n",
    "    3. calculate each year's value as ratio of 2020's\n",
    "    4. write to summary file (the 2020 baseline data and other data are supposed to be organized in different sheets in different ways)"
   ],
   "metadata": {
    "collapsed": false,
    "pycharm": {
     "name": "#%% md\n"
    }
   }
  },
  {
   "cell_type": "code",
   "execution_count": 70,
   "outputs": [
    {
     "name": "stdout",
     "output_type": "stream",
     "text": [
      "max: nan; min: nan; info: Utility-Scale Battery Storage Variable Operation and Maintenance Expenses ($/MWh)\n",
      "max: nan; min: nan; info: Utility-Scale Battery Storage Variable Operation and Maintenance Expenses ($/MWh)\n",
      "max: nan; min: nan; info: Utility-Scale Battery Storage Variable Operation and Maintenance Expenses ($/MWh)\n",
      "max: nan; min: nan; info: Utility-Scale Battery Storage Variable Operation and Maintenance Expenses ($/MWh)\n",
      "max: nan; min: nan; info: Utility-Scale Battery Storage Variable Operation and Maintenance Expenses ($/MWh)\n"
     ]
    }
   ],
   "source": [
    "import collections\n",
    "import numpy as np\n",
    "\n",
    "baseline_year = year_list[0]\n",
    "# make a dictionary-of-dictionaries-of-dictionaries\n",
    "ddd = collections.defaultdict(lambda : collections.defaultdict(dict))\n",
    "\n",
    "debug_session = []\n",
    "\n",
    "# iterate over sheet names and dataframes\n",
    "for tech, df in sheets.items():\n",
    "    # get all unique indexes in the df\n",
    "    indexes = list(df['Index'].unique())\n",
    "    year_dict = {}\n",
    "\n",
    "    # iterate over the indexes\n",
    "    for index in indexes:\n",
    "        index_df = df[(df['Index']==index)]\n",
    "        # iterate over years\n",
    "        for year in year_list[1:]:\n",
    "            try:\n",
    "                min_ratio = (index_df[year]/index_df[baseline_year]).min()\n",
    "                max_ratio = (index_df[year]/index_df[baseline_year]).max()\n",
    "                if np.isnan(min_ratio) or np.isnan(max_ratio):\n",
    "                    print('max: '+str(max_ratio)+'; min: '+str(min_ratio)+'; info: '+tech, index)\n",
    "                range_list = [min_ratio, max_ratio]\n",
    "\n",
    "            except ZeroDivisionError as e:\n",
    "                range_list = [0, 0]\n",
    "\n",
    "            finally:\n",
    "                year_dict[str(year)] = range_list\n",
    "\n",
    "        ddd[index][tech] = year_dict"
   ],
   "metadata": {
    "collapsed": false,
    "pycharm": {
     "name": "#%%\n"
    }
   }
  },
  {
   "cell_type": "code",
   "execution_count": 71,
   "outputs": [
    {
     "data": {
      "text/plain": "       Solar - PV Dist. Comm Offshore Wind Hydropower  \\\n2025.0                [0, 0]        [0, 0]     [0, 0]   \n2030.0                [0, 0]        [0, 0]     [0, 0]   \n2035.0                [0, 0]        [0, 0]     [0, 0]   \n2040.0                [0, 0]        [0, 0]     [0, 0]   \n2045.0                [0, 0]        [0, 0]     [0, 0]   \n2050.0                [0, 0]        [0, 0]     [0, 0]   \n\n       Pumped Storage Hydropower Land-Based Wind    Biopower  \\\n2025.0                [1.0, 1.0]          [0, 0]  [1.0, 1.0]   \n2030.0                [1.0, 1.0]          [0, 0]  [1.0, 1.0]   \n2035.0                [1.0, 1.0]          [0, 0]  [1.0, 1.0]   \n2040.0                [1.0, 1.0]          [0, 0]  [1.0, 1.0]   \n2045.0                [1.0, 1.0]          [0, 0]  [1.0, 1.0]   \n2050.0                [1.0, 1.0]          [0, 0]  [1.0, 1.0]   \n\n       Solar - Utility PV                               Solar - CSP  \n2025.0             [0, 0]  [0.8314285714285715, 0.8314285714285715]  \n2030.0             [0, 0]  [0.8314285714285715, 0.8314285714285715]  \n2035.0             [0, 0]  [0.8314285714285715, 0.8314285714285715]  \n2040.0             [0, 0]  [0.8314285714285715, 0.8314285714285715]  \n2045.0             [0, 0]  [0.8314285714285715, 0.8314285714285715]  \n2050.0             [0, 0]  [0.8314285714285715, 0.8314285714285715]  ",
      "text/html": "<div>\n<style scoped>\n    .dataframe tbody tr th:only-of-type {\n        vertical-align: middle;\n    }\n\n    .dataframe tbody tr th {\n        vertical-align: top;\n    }\n\n    .dataframe thead th {\n        text-align: right;\n    }\n</style>\n<table border=\"1\" class=\"dataframe\">\n  <thead>\n    <tr style=\"text-align: right;\">\n      <th></th>\n      <th>Solar - PV Dist. Comm</th>\n      <th>Offshore Wind</th>\n      <th>Hydropower</th>\n      <th>Pumped Storage Hydropower</th>\n      <th>Land-Based Wind</th>\n      <th>Biopower</th>\n      <th>Solar - Utility PV</th>\n      <th>Solar - CSP</th>\n    </tr>\n  </thead>\n  <tbody>\n    <tr>\n      <th>2025.0</th>\n      <td>[0, 0]</td>\n      <td>[0, 0]</td>\n      <td>[0, 0]</td>\n      <td>[1.0, 1.0]</td>\n      <td>[0, 0]</td>\n      <td>[1.0, 1.0]</td>\n      <td>[0, 0]</td>\n      <td>[0.8314285714285715, 0.8314285714285715]</td>\n    </tr>\n    <tr>\n      <th>2030.0</th>\n      <td>[0, 0]</td>\n      <td>[0, 0]</td>\n      <td>[0, 0]</td>\n      <td>[1.0, 1.0]</td>\n      <td>[0, 0]</td>\n      <td>[1.0, 1.0]</td>\n      <td>[0, 0]</td>\n      <td>[0.8314285714285715, 0.8314285714285715]</td>\n    </tr>\n    <tr>\n      <th>2035.0</th>\n      <td>[0, 0]</td>\n      <td>[0, 0]</td>\n      <td>[0, 0]</td>\n      <td>[1.0, 1.0]</td>\n      <td>[0, 0]</td>\n      <td>[1.0, 1.0]</td>\n      <td>[0, 0]</td>\n      <td>[0.8314285714285715, 0.8314285714285715]</td>\n    </tr>\n    <tr>\n      <th>2040.0</th>\n      <td>[0, 0]</td>\n      <td>[0, 0]</td>\n      <td>[0, 0]</td>\n      <td>[1.0, 1.0]</td>\n      <td>[0, 0]</td>\n      <td>[1.0, 1.0]</td>\n      <td>[0, 0]</td>\n      <td>[0.8314285714285715, 0.8314285714285715]</td>\n    </tr>\n    <tr>\n      <th>2045.0</th>\n      <td>[0, 0]</td>\n      <td>[0, 0]</td>\n      <td>[0, 0]</td>\n      <td>[1.0, 1.0]</td>\n      <td>[0, 0]</td>\n      <td>[1.0, 1.0]</td>\n      <td>[0, 0]</td>\n      <td>[0.8314285714285715, 0.8314285714285715]</td>\n    </tr>\n    <tr>\n      <th>2050.0</th>\n      <td>[0, 0]</td>\n      <td>[0, 0]</td>\n      <td>[0, 0]</td>\n      <td>[1.0, 1.0]</td>\n      <td>[0, 0]</td>\n      <td>[1.0, 1.0]</td>\n      <td>[0, 0]</td>\n      <td>[0.8314285714285715, 0.8314285714285715]</td>\n    </tr>\n  </tbody>\n</table>\n</div>"
     },
     "execution_count": 71,
     "metadata": {},
     "output_type": "execute_result"
    }
   ],
   "source": [
    "pd.DataFrame(ddd[index_list[0]])"
   ],
   "metadata": {
    "collapsed": false,
    "pycharm": {
     "name": "#%%\n"
    }
   }
  },
  {
   "cell_type": "code",
   "execution_count": 72,
   "outputs": [
    {
     "ename": "ValueError",
     "evalue": "Invalid character / found in sheet title",
     "output_type": "error",
     "traceback": [
      "\u001B[0;31m---------------------------------------------------------------------------\u001B[0m",
      "\u001B[0;31mValueError\u001B[0m                                Traceback (most recent call last)",
      "Input \u001B[0;32mIn [72]\u001B[0m, in \u001B[0;36m<cell line: 2>\u001B[0;34m()\u001B[0m\n\u001B[1;32m      2\u001B[0m \u001B[38;5;28;01mfor\u001B[39;00m index, index_dict \u001B[38;5;129;01min\u001B[39;00m ddd\u001B[38;5;241m.\u001B[39mitems():\n\u001B[1;32m      3\u001B[0m     index_df \u001B[38;5;241m=\u001B[39m pd\u001B[38;5;241m.\u001B[39mDataFrame(index_dict)\n\u001B[0;32m----> 4\u001B[0m     \u001B[43mindex_df\u001B[49m\u001B[38;5;241;43m.\u001B[39;49m\u001B[43mto_excel\u001B[49m\u001B[43m(\u001B[49m\u001B[43msummary_path\u001B[49m\u001B[43m,\u001B[49m\u001B[43m \u001B[49m\u001B[43msheet_name\u001B[49m\u001B[38;5;241;43m=\u001B[39;49m\u001B[38;5;28;43mstr\u001B[39;49m\u001B[43m(\u001B[49m\u001B[43mindex\u001B[49m\u001B[43m)\u001B[49m\u001B[43m)\u001B[49m\n",
      "File \u001B[0;32m~/opt/anaconda3/envs/3e-data-wiz/lib/python3.10/site-packages/pandas/core/generic.py:2345\u001B[0m, in \u001B[0;36mNDFrame.to_excel\u001B[0;34m(self, excel_writer, sheet_name, na_rep, float_format, columns, header, index, index_label, startrow, startcol, engine, merge_cells, encoding, inf_rep, verbose, freeze_panes, storage_options)\u001B[0m\n\u001B[1;32m   2332\u001B[0m \u001B[38;5;28;01mfrom\u001B[39;00m \u001B[38;5;21;01mpandas\u001B[39;00m\u001B[38;5;21;01m.\u001B[39;00m\u001B[38;5;21;01mio\u001B[39;00m\u001B[38;5;21;01m.\u001B[39;00m\u001B[38;5;21;01mformats\u001B[39;00m\u001B[38;5;21;01m.\u001B[39;00m\u001B[38;5;21;01mexcel\u001B[39;00m \u001B[38;5;28;01mimport\u001B[39;00m ExcelFormatter\n\u001B[1;32m   2334\u001B[0m formatter \u001B[38;5;241m=\u001B[39m ExcelFormatter(\n\u001B[1;32m   2335\u001B[0m     df,\n\u001B[1;32m   2336\u001B[0m     na_rep\u001B[38;5;241m=\u001B[39mna_rep,\n\u001B[0;32m   (...)\u001B[0m\n\u001B[1;32m   2343\u001B[0m     inf_rep\u001B[38;5;241m=\u001B[39minf_rep,\n\u001B[1;32m   2344\u001B[0m )\n\u001B[0;32m-> 2345\u001B[0m \u001B[43mformatter\u001B[49m\u001B[38;5;241;43m.\u001B[39;49m\u001B[43mwrite\u001B[49m\u001B[43m(\u001B[49m\n\u001B[1;32m   2346\u001B[0m \u001B[43m    \u001B[49m\u001B[43mexcel_writer\u001B[49m\u001B[43m,\u001B[49m\n\u001B[1;32m   2347\u001B[0m \u001B[43m    \u001B[49m\u001B[43msheet_name\u001B[49m\u001B[38;5;241;43m=\u001B[39;49m\u001B[43msheet_name\u001B[49m\u001B[43m,\u001B[49m\n\u001B[1;32m   2348\u001B[0m \u001B[43m    \u001B[49m\u001B[43mstartrow\u001B[49m\u001B[38;5;241;43m=\u001B[39;49m\u001B[43mstartrow\u001B[49m\u001B[43m,\u001B[49m\n\u001B[1;32m   2349\u001B[0m \u001B[43m    \u001B[49m\u001B[43mstartcol\u001B[49m\u001B[38;5;241;43m=\u001B[39;49m\u001B[43mstartcol\u001B[49m\u001B[43m,\u001B[49m\n\u001B[1;32m   2350\u001B[0m \u001B[43m    \u001B[49m\u001B[43mfreeze_panes\u001B[49m\u001B[38;5;241;43m=\u001B[39;49m\u001B[43mfreeze_panes\u001B[49m\u001B[43m,\u001B[49m\n\u001B[1;32m   2351\u001B[0m \u001B[43m    \u001B[49m\u001B[43mengine\u001B[49m\u001B[38;5;241;43m=\u001B[39;49m\u001B[43mengine\u001B[49m\u001B[43m,\u001B[49m\n\u001B[1;32m   2352\u001B[0m \u001B[43m    \u001B[49m\u001B[43mstorage_options\u001B[49m\u001B[38;5;241;43m=\u001B[39;49m\u001B[43mstorage_options\u001B[49m\u001B[43m,\u001B[49m\n\u001B[1;32m   2353\u001B[0m \u001B[43m\u001B[49m\u001B[43m)\u001B[49m\n",
      "File \u001B[0;32m~/opt/anaconda3/envs/3e-data-wiz/lib/python3.10/site-packages/pandas/io/formats/excel.py:894\u001B[0m, in \u001B[0;36mExcelFormatter.write\u001B[0;34m(self, writer, sheet_name, startrow, startcol, freeze_panes, engine, storage_options)\u001B[0m\n\u001B[1;32m    891\u001B[0m     need_save \u001B[38;5;241m=\u001B[39m \u001B[38;5;28;01mTrue\u001B[39;00m\n\u001B[1;32m    893\u001B[0m \u001B[38;5;28;01mtry\u001B[39;00m:\n\u001B[0;32m--> 894\u001B[0m     \u001B[43mwriter\u001B[49m\u001B[38;5;241;43m.\u001B[39;49m\u001B[43mwrite_cells\u001B[49m\u001B[43m(\u001B[49m\n\u001B[1;32m    895\u001B[0m \u001B[43m        \u001B[49m\u001B[43mformatted_cells\u001B[49m\u001B[43m,\u001B[49m\n\u001B[1;32m    896\u001B[0m \u001B[43m        \u001B[49m\u001B[43msheet_name\u001B[49m\u001B[43m,\u001B[49m\n\u001B[1;32m    897\u001B[0m \u001B[43m        \u001B[49m\u001B[43mstartrow\u001B[49m\u001B[38;5;241;43m=\u001B[39;49m\u001B[43mstartrow\u001B[49m\u001B[43m,\u001B[49m\n\u001B[1;32m    898\u001B[0m \u001B[43m        \u001B[49m\u001B[43mstartcol\u001B[49m\u001B[38;5;241;43m=\u001B[39;49m\u001B[43mstartcol\u001B[49m\u001B[43m,\u001B[49m\n\u001B[1;32m    899\u001B[0m \u001B[43m        \u001B[49m\u001B[43mfreeze_panes\u001B[49m\u001B[38;5;241;43m=\u001B[39;49m\u001B[43mfreeze_panes\u001B[49m\u001B[43m,\u001B[49m\n\u001B[1;32m    900\u001B[0m \u001B[43m    \u001B[49m\u001B[43m)\u001B[49m\n\u001B[1;32m    901\u001B[0m \u001B[38;5;28;01mfinally\u001B[39;00m:\n\u001B[1;32m    902\u001B[0m     \u001B[38;5;66;03m# make sure to close opened file handles\u001B[39;00m\n\u001B[1;32m    903\u001B[0m     \u001B[38;5;28;01mif\u001B[39;00m need_save:\n",
      "File \u001B[0;32m~/opt/anaconda3/envs/3e-data-wiz/lib/python3.10/site-packages/pandas/io/excel/_openpyxl.py:452\u001B[0m, in \u001B[0;36mOpenpyxlWriter.write_cells\u001B[0;34m(self, cells, sheet_name, startrow, startcol, freeze_panes)\u001B[0m\n\u001B[1;32m    450\u001B[0m \u001B[38;5;28;01melse\u001B[39;00m:\n\u001B[1;32m    451\u001B[0m     wks \u001B[38;5;241m=\u001B[39m \u001B[38;5;28mself\u001B[39m\u001B[38;5;241m.\u001B[39mbook\u001B[38;5;241m.\u001B[39mcreate_sheet()\n\u001B[0;32m--> 452\u001B[0m     wks\u001B[38;5;241m.\u001B[39mtitle \u001B[38;5;241m=\u001B[39m sheet_name\n\u001B[1;32m    453\u001B[0m     \u001B[38;5;28mself\u001B[39m\u001B[38;5;241m.\u001B[39msheets[sheet_name] \u001B[38;5;241m=\u001B[39m wks\n\u001B[1;32m    455\u001B[0m \u001B[38;5;28;01mif\u001B[39;00m validate_freeze_panes(freeze_panes):\n",
      "File \u001B[0;32m~/opt/anaconda3/envs/3e-data-wiz/lib/python3.10/site-packages/openpyxl/workbook/child.py:93\u001B[0m, in \u001B[0;36m_WorkbookChild.title\u001B[0;34m(self, value)\u001B[0m\n\u001B[1;32m     91\u001B[0m \u001B[38;5;28;01mif\u001B[39;00m m:\n\u001B[1;32m     92\u001B[0m     msg \u001B[38;5;241m=\u001B[39m \u001B[38;5;124m\"\u001B[39m\u001B[38;5;124mInvalid character \u001B[39m\u001B[38;5;132;01m{0}\u001B[39;00m\u001B[38;5;124m found in sheet title\u001B[39m\u001B[38;5;124m\"\u001B[39m\u001B[38;5;241m.\u001B[39mformat(m\u001B[38;5;241m.\u001B[39mgroup(\u001B[38;5;241m0\u001B[39m))\n\u001B[0;32m---> 93\u001B[0m     \u001B[38;5;28;01mraise\u001B[39;00m \u001B[38;5;167;01mValueError\u001B[39;00m(msg)\n\u001B[1;32m     95\u001B[0m \u001B[38;5;28;01mif\u001B[39;00m \u001B[38;5;28mself\u001B[39m\u001B[38;5;241m.\u001B[39mtitle \u001B[38;5;129;01mis\u001B[39;00m \u001B[38;5;129;01mnot\u001B[39;00m \u001B[38;5;28;01mNone\u001B[39;00m \u001B[38;5;129;01mand\u001B[39;00m \u001B[38;5;28mself\u001B[39m\u001B[38;5;241m.\u001B[39mtitle \u001B[38;5;241m!=\u001B[39m value:\n\u001B[1;32m     96\u001B[0m     value \u001B[38;5;241m=\u001B[39m avoid_duplicate_name(\u001B[38;5;28mself\u001B[39m\u001B[38;5;241m.\u001B[39mparent\u001B[38;5;241m.\u001B[39msheetnames, value)\n",
      "\u001B[0;31mValueError\u001B[0m: Invalid character / found in sheet title"
     ]
    }
   ],
   "source": [
    "# iterate over the out most layer of the 3-d dictionary\n",
    "for index, index_dict in ddd.items():\n",
    "    index_df = pd.DataFrame(index_dict)\n",
    "    index_df.to_excel(summary_path, sheet_name=str(index))"
   ],
   "metadata": {
    "collapsed": false,
    "pycharm": {
     "name": "#%%\n"
    }
   }
  },
  {
   "cell_type": "code",
   "execution_count": null,
   "outputs": [],
   "source": [],
   "metadata": {
    "collapsed": false,
    "pycharm": {
     "name": "#%%\n"
    }
   }
  }
 ],
 "metadata": {
  "kernelspec": {
   "display_name": "Python 3",
   "language": "python",
   "name": "python3"
  },
  "language_info": {
   "codemirror_mode": {
    "name": "ipython",
    "version": 2
   },
   "file_extension": ".py",
   "mimetype": "text/x-python",
   "name": "python",
   "nbconvert_exporter": "python",
   "pygments_lexer": "ipython2",
   "version": "2.7.6"
  }
 },
 "nbformat": 4,
 "nbformat_minor": 0
}