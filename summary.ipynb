{
 "cells": [
  {
   "cell_type": "markdown",
   "source": [
    "# Summary\n",
    "This notebook is used to automatically extract data from ATB yearly workbook file and generate summary accordingly to the specification."
   ],
   "metadata": {
    "collapsed": false,
    "pycharm": {
     "name": "#%% md\n"
    }
   }
  },
  {
   "cell_type": "markdown",
   "source": [
    "## Getting Ready\n",
    "- Here, we first import the package needed, and identify the path to files;\n",
    "    - 2 paths to files are required here:\n",
    "        1. raw_data_path: the path to the raw data file\n",
    "        2. ancillary_path: the path to the ancillary file which declares the scope of tech and index of interest.\n",
    "\n",
    "- Make 2 lists out of the ancillary file"
   ],
   "metadata": {
    "collapsed": false,
    "pycharm": {
     "name": "#%% md\n"
    }
   }
  },
  {
   "cell_type": "code",
   "execution_count": 105,
   "outputs": [],
   "source": [
    "import pandas as pd"
   ],
   "metadata": {
    "collapsed": false,
    "pycharm": {
     "name": "#%%\n"
    }
   }
  },
  {
   "cell_type": "code",
   "execution_count": 106,
   "outputs": [],
   "source": [
    "raw_data_path = '/Users/zhixuan/PycharmProjects/ATB-Raw-Summarization/data/2022 v2 Annual Technology Baseline Workbook Corrected 7-21-2022.xlsx'\n",
    "\n",
    "ancillary_path = '/Users/zhixuan/PycharmProjects/ATB-Raw-Summarization/data/ancillary.xlsx'\n",
    "\n",
    "raw = pd.ExcelFile(raw_data_path)"
   ],
   "metadata": {
    "collapsed": false,
    "pycharm": {
     "name": "#%%\n"
    }
   }
  },
  {
   "cell_type": "code",
   "execution_count": 107,
   "outputs": [],
   "source": [
    "ancillary = pd.read_excel(ancillary_path)\n",
    "\n",
    "# make tech list out of ancillary\n",
    "tech_list = list(ancillary['Tech'].values)\n",
    "\n",
    "# make index list out of ancillary\n",
    "index_list = list(ancillary['Index'].dropna().values)\n",
    "\n",
    "# flush-flush\n",
    "del ancillary"
   ],
   "metadata": {
    "collapsed": false,
    "pycharm": {
     "name": "#%%\n"
    }
   }
  },
  {
   "cell_type": "markdown",
   "source": [
    "## Main loop\n",
    "- Iterate over tech sheets needed"
   ],
   "metadata": {
    "collapsed": false,
    "pycharm": {
     "name": "#%% md\n"
    }
   }
  },
  {
   "cell_type": "code",
   "execution_count": 108,
   "outputs": [],
   "source": [
    "# get all the name of the sheets -> intersect with tech list\n",
    "sheet_list = list(set(raw.sheet_names) & set(tech_list))\n",
    "sub_tech_list = list(set(tech_list)-set(sheet_list))"
   ],
   "metadata": {
    "collapsed": false,
    "pycharm": {
     "name": "#%%\n"
    }
   }
  },
  {
   "cell_type": "code",
   "execution_count": 112,
   "outputs": [
    {
     "name": "stdout",
     "output_type": "stream",
     "text": [
      "Overnight Capital Cost ($/kW)\n",
      "Overnight Capital Cost ($/kW)\n",
      "Fixed Operation and Maintenance Expenses ($/kW-yr)\n",
      "Variable Operation and Maintenance Expenses ($/MWh)\n",
      "Grid Connection Costs (GCC) ($/kW)\n",
      "Offshore Spur Line Costs ($/kW)\n",
      "Levelized Cost of Energy ($/MWh)\n",
      "Tax Credit\n",
      "Depreciation Factor\n",
      "Construction Finance Factor\n",
      "Overnight Capital Cost ($/kW)\n",
      "Overnight Capital Cost ($/kW)\n",
      "Fixed Operation and Maintenance Expenses ($/kW-yr)\n",
      "Variable Operation and Maintenance Expenses ($/MWh)\n",
      "Grid Connection Costs (GCC) ($/kW)\n",
      "Levelized Cost of Energy ($/MWh)\n",
      "Tax Credit\n",
      "Depreciation Factor\n",
      "Construction Finance Factor\n",
      "Overnight Capital Cost ($/kW)\n",
      "Overnight Capital Cost ($/kW)\n",
      "Fixed Operation and Maintenance Expenses ($/kW-yr)\n",
      "Variable Operation and Maintenance Expenses ($/MWh)\n",
      "Grid Connection Costs (GCC) ($/kW)\n",
      "Levelized Cost of Energy ($/MWh)\n",
      "Tax Credit\n",
      "Depreciation Factor\n",
      "Construction Finance Factor\n",
      "Overnight Capital Cost ($/kW)\n",
      "Overnight Capital Cost ($/kW)\n",
      "Fixed Operation and Maintenance Expenses ($/kW-yr)\n",
      "Variable Operation and Maintenance Expenses ($/MWh)\n",
      "Fuel Costs ($/MMBtu)\n",
      "Fuel Costs ($/MWh)\n",
      "Grid Connection Costs (GCC) ($/kW)\n",
      "Levelized Cost of Energy ($/MWh)\n",
      "Tax Credit\n",
      "Depreciation Factor\n",
      "Construction Finance Factor\n",
      "Overnight Capital Cost ($/kW)\n",
      "Overnight Capital Cost ($/kW)\n",
      "Fixed Operation and Maintenance Expenses ($/kW-yr)\n",
      "Variable Operation and Maintenance Expenses ($/MWh)\n",
      "Grid Connection Costs (GCC) ($/kW)\n",
      "Levelized Cost of Energy ($/MWh)\n",
      "Tax Credit\n",
      "Depreciation Factor\n",
      "Construction Finance Factor\n",
      "Overnight Capital Cost ($/kW)\n",
      "Overnight Capital Cost ($/kW)\n",
      "Fixed Operation and Maintenance Expenses ($/kW-yr)\n",
      "Variable Operation and Maintenance Expenses ($/MWh)\n",
      "Grid Connection Costs (GCC) ($/kW)\n",
      "Levelized Cost of Energy ($/MWh)\n",
      "Tax Credit\n",
      "Depreciation Factor\n",
      "Construction Finance Factor\n",
      "Overnight Capital Cost ($/kW)\n",
      "Overnight Capital Cost ($/kW)\n",
      "Fixed Operation and Maintenance Expenses ($/kW-yr)\n",
      "Variable Operation and Maintenance Expenses ($/MWh)\n",
      "Grid Connection Costs (GCC) ($/kW)\n",
      "Levelized Cost of Energy ($/MWh)\n",
      "Tax Credit\n",
      "Depreciation Factor\n",
      "Construction Finance Factor\n",
      "Overnight Capital Cost ($/kW)\n",
      "Overnight Capital Cost ($/kW)\n",
      "Fixed Operation and Maintenance Expenses ($/kW-yr)\n",
      "Variable Operation and Maintenance Expenses ($/MWh)\n",
      "Round-Trip Efficiency\n",
      "Grid Connection Costs (GCC) ($/kW)\n",
      "Tax Credit\n",
      "Depreciation Factor\n",
      "Construction Finance Factor\n"
     ]
    }
   ],
   "source": [
    "# iterate through all sheets level techs\n",
    "sheets = {}\n",
    "for sheet in sheet_list:\n",
    "    sheet_df = pd.read_excel(raw, sheet_name=str(sheet)).iloc[:, 9:].dropna(how='all')\n",
    "    index = None\n",
    "    area_head = None\n",
    "    # iterate over rows\n",
    "    for i in range(len(sheet_df)):\n",
    "        # get the value on the current index column\n",
    "        working_index = sheet_df.iloc[i, 0]\n",
    "\n",
    "        # if it has null value\n",
    "        if pd.isna(working_index):\n",
    "            if not index is None:\n",
    "                # assign the current index to the cell\n",
    "                sheet_df.iloc[i, 0] = str(index)\n",
    "        else:\n",
    "            # first valid\n",
    "            if index is None and (working_index in index_list):\n",
    "                print(working_index)\n",
    "                area_head = i\n",
    "\n",
    "            if area_head is not None:\n",
    "                index = str(working_index)\n",
    "\n",
    "    sheet_df = sheet_df.iloc[area_head:, :]\n",
    "    sheets[str(sheet)] = sheet_df"
   ],
   "metadata": {
    "collapsed": false,
    "pycharm": {
     "name": "#%%\n"
    }
   }
  },
  {
   "cell_type": "code",
   "execution_count": 110,
   "outputs": [
    {
     "data": {
      "text/plain": "                                            Unnamed: 9 Unnamed: 10  \\\n0                                                  NaN         NaN   \n1                                                  NaN         NaN   \n2                                                  NaN         NaN   \n7                                           Base Year:         NaN   \n8    All values are given in 2020 U.S. dollars, usi...         NaN   \n..                                                 ...         ...   \n579                        Construction Finance Factor         NaN   \n580                        Construction Finance Factor         NaN   \n581                        Construction Finance Factor         NaN   \n584                        Construction Finance Factor         NaN   \n767                        Construction Finance Factor         NaN   \n\n    Unnamed: 11 https://atb.nrel.gov/electricity/2022/offshore_wind  \\\n0           NaN                                                NaN    \n1           NaN                                                NaN    \n2           NaN                                                NaN    \n7           NaN                                               2020    \n8           NaN                                                NaN    \n..          ...                                                ...    \n579         NaN                                                NaN    \n580         NaN                                                NaN    \n581         NaN                                                NaN    \n584         NaN                                                NaN    \n767         NaN                                                  0    \n\n                          Unnamed: 13                 Unnamed: 14  \\\n0                                 NaN                         NaN   \n1                                 NaN                         NaN   \n2                                 NaN                         NaN   \n7                                 NaN                         NaN   \n8                                 NaN                         NaN   \n..                                ...                         ...   \n579  Adapted from Valpy et al., 2017    and Hundleby et al., 2017   \n580   Adapted from Valpy et al., 2017   and Hundleby et al., 2017   \n581   Adapted from Valpy et al., 2017   and Hundleby et al., 2019   \n584                Beiter et al, 2019          Beiter et al. 2020   \n767                                 0                           0   \n\n             Unnamed: 15 Unnamed: 16 Unnamed: 17 Unnamed: 18  ... Unnamed: 37  \\\n0                    NaN         NaN         NaN         NaN  ...         NaN   \n1                    NaN         NaN         NaN         NaN  ...         NaN   \n2                    NaN         NaN         NaN         NaN  ...         NaN   \n7                    NaN         NaN         NaN         NaN  ...         NaN   \n8                    NaN         NaN         NaN         NaN  ...         NaN   \n..                   ...         ...         ...         ...  ...         ...   \n579   Beiter et al. 2020         NaN         NaN         NaN  ...         NaN   \n580   Beiter et al. 2020         NaN         NaN         NaN  ...         NaN   \n581   Beiter et al. 2020         NaN         NaN         NaN  ...         NaN   \n584                  NaN         NaN         NaN         NaN  ...         NaN   \n767                    0           0           0           0  ...         0.0   \n\n    Unnamed: 38  Unnamed: 39  Unnamed: 40  Unnamed: 41  Unnamed: 42  \\\n0           NaN          NaN          NaN          NaN          NaN   \n1           NaN          NaN          NaN          NaN          NaN   \n2           NaN          NaN          NaN          NaN          NaN   \n7           NaN          NaN          NaN          NaN          NaN   \n8           NaN          NaN          NaN          NaN          NaN   \n..          ...          ...          ...          ...          ...   \n579         NaN          NaN          NaN          NaN          NaN   \n580         NaN          NaN          NaN          NaN          NaN   \n581         NaN          NaN          NaN          NaN          NaN   \n584         NaN          NaN          NaN          NaN          NaN   \n767         0.0          0.0          0.0          0.0          0.0   \n\n    Unnamed: 43  Unnamed: 44  Unnamed: 45  Unnamed: 46  \n0           NaN          NaN          NaN          NaN  \n1           NaN          NaN          NaN          NaN  \n2           NaN          NaN          NaN          NaN  \n7           NaN          NaN          NaN          NaN  \n8           NaN          NaN          NaN          NaN  \n..          ...          ...          ...          ...  \n579         NaN          NaN          NaN          NaN  \n580         NaN          NaN          NaN          NaN  \n581         NaN          NaN          NaN          NaN  \n584         NaN          NaN          NaN          NaN  \n767         0.0          0.0          0.0          0.0  \n\n[552 rows x 38 columns]",
      "text/html": "<div>\n<style scoped>\n    .dataframe tbody tr th:only-of-type {\n        vertical-align: middle;\n    }\n\n    .dataframe tbody tr th {\n        vertical-align: top;\n    }\n\n    .dataframe thead th {\n        text-align: right;\n    }\n</style>\n<table border=\"1\" class=\"dataframe\">\n  <thead>\n    <tr style=\"text-align: right;\">\n      <th></th>\n      <th>Unnamed: 9</th>\n      <th>Unnamed: 10</th>\n      <th>Unnamed: 11</th>\n      <th>https://atb.nrel.gov/electricity/2022/offshore_wind</th>\n      <th>Unnamed: 13</th>\n      <th>Unnamed: 14</th>\n      <th>Unnamed: 15</th>\n      <th>Unnamed: 16</th>\n      <th>Unnamed: 17</th>\n      <th>Unnamed: 18</th>\n      <th>...</th>\n      <th>Unnamed: 37</th>\n      <th>Unnamed: 38</th>\n      <th>Unnamed: 39</th>\n      <th>Unnamed: 40</th>\n      <th>Unnamed: 41</th>\n      <th>Unnamed: 42</th>\n      <th>Unnamed: 43</th>\n      <th>Unnamed: 44</th>\n      <th>Unnamed: 45</th>\n      <th>Unnamed: 46</th>\n    </tr>\n  </thead>\n  <tbody>\n    <tr>\n      <th>0</th>\n      <td>NaN</td>\n      <td>NaN</td>\n      <td>NaN</td>\n      <td>NaN</td>\n      <td>NaN</td>\n      <td>NaN</td>\n      <td>NaN</td>\n      <td>NaN</td>\n      <td>NaN</td>\n      <td>NaN</td>\n      <td>...</td>\n      <td>NaN</td>\n      <td>NaN</td>\n      <td>NaN</td>\n      <td>NaN</td>\n      <td>NaN</td>\n      <td>NaN</td>\n      <td>NaN</td>\n      <td>NaN</td>\n      <td>NaN</td>\n      <td>NaN</td>\n    </tr>\n    <tr>\n      <th>1</th>\n      <td>NaN</td>\n      <td>NaN</td>\n      <td>NaN</td>\n      <td>NaN</td>\n      <td>NaN</td>\n      <td>NaN</td>\n      <td>NaN</td>\n      <td>NaN</td>\n      <td>NaN</td>\n      <td>NaN</td>\n      <td>...</td>\n      <td>NaN</td>\n      <td>NaN</td>\n      <td>NaN</td>\n      <td>NaN</td>\n      <td>NaN</td>\n      <td>NaN</td>\n      <td>NaN</td>\n      <td>NaN</td>\n      <td>NaN</td>\n      <td>NaN</td>\n    </tr>\n    <tr>\n      <th>2</th>\n      <td>NaN</td>\n      <td>NaN</td>\n      <td>NaN</td>\n      <td>NaN</td>\n      <td>NaN</td>\n      <td>NaN</td>\n      <td>NaN</td>\n      <td>NaN</td>\n      <td>NaN</td>\n      <td>NaN</td>\n      <td>...</td>\n      <td>NaN</td>\n      <td>NaN</td>\n      <td>NaN</td>\n      <td>NaN</td>\n      <td>NaN</td>\n      <td>NaN</td>\n      <td>NaN</td>\n      <td>NaN</td>\n      <td>NaN</td>\n      <td>NaN</td>\n    </tr>\n    <tr>\n      <th>7</th>\n      <td>Base Year:</td>\n      <td>NaN</td>\n      <td>NaN</td>\n      <td>2020</td>\n      <td>NaN</td>\n      <td>NaN</td>\n      <td>NaN</td>\n      <td>NaN</td>\n      <td>NaN</td>\n      <td>NaN</td>\n      <td>...</td>\n      <td>NaN</td>\n      <td>NaN</td>\n      <td>NaN</td>\n      <td>NaN</td>\n      <td>NaN</td>\n      <td>NaN</td>\n      <td>NaN</td>\n      <td>NaN</td>\n      <td>NaN</td>\n      <td>NaN</td>\n    </tr>\n    <tr>\n      <th>8</th>\n      <td>All values are given in 2020 U.S. dollars, usi...</td>\n      <td>NaN</td>\n      <td>NaN</td>\n      <td>NaN</td>\n      <td>NaN</td>\n      <td>NaN</td>\n      <td>NaN</td>\n      <td>NaN</td>\n      <td>NaN</td>\n      <td>NaN</td>\n      <td>...</td>\n      <td>NaN</td>\n      <td>NaN</td>\n      <td>NaN</td>\n      <td>NaN</td>\n      <td>NaN</td>\n      <td>NaN</td>\n      <td>NaN</td>\n      <td>NaN</td>\n      <td>NaN</td>\n      <td>NaN</td>\n    </tr>\n    <tr>\n      <th>...</th>\n      <td>...</td>\n      <td>...</td>\n      <td>...</td>\n      <td>...</td>\n      <td>...</td>\n      <td>...</td>\n      <td>...</td>\n      <td>...</td>\n      <td>...</td>\n      <td>...</td>\n      <td>...</td>\n      <td>...</td>\n      <td>...</td>\n      <td>...</td>\n      <td>...</td>\n      <td>...</td>\n      <td>...</td>\n      <td>...</td>\n      <td>...</td>\n      <td>...</td>\n      <td>...</td>\n    </tr>\n    <tr>\n      <th>579</th>\n      <td>Construction Finance Factor</td>\n      <td>NaN</td>\n      <td>NaN</td>\n      <td>NaN</td>\n      <td>Adapted from Valpy et al., 2017</td>\n      <td>and Hundleby et al., 2017</td>\n      <td>Beiter et al. 2020</td>\n      <td>NaN</td>\n      <td>NaN</td>\n      <td>NaN</td>\n      <td>...</td>\n      <td>NaN</td>\n      <td>NaN</td>\n      <td>NaN</td>\n      <td>NaN</td>\n      <td>NaN</td>\n      <td>NaN</td>\n      <td>NaN</td>\n      <td>NaN</td>\n      <td>NaN</td>\n      <td>NaN</td>\n    </tr>\n    <tr>\n      <th>580</th>\n      <td>Construction Finance Factor</td>\n      <td>NaN</td>\n      <td>NaN</td>\n      <td>NaN</td>\n      <td>Adapted from Valpy et al., 2017</td>\n      <td>and Hundleby et al., 2017</td>\n      <td>Beiter et al. 2020</td>\n      <td>NaN</td>\n      <td>NaN</td>\n      <td>NaN</td>\n      <td>...</td>\n      <td>NaN</td>\n      <td>NaN</td>\n      <td>NaN</td>\n      <td>NaN</td>\n      <td>NaN</td>\n      <td>NaN</td>\n      <td>NaN</td>\n      <td>NaN</td>\n      <td>NaN</td>\n      <td>NaN</td>\n    </tr>\n    <tr>\n      <th>581</th>\n      <td>Construction Finance Factor</td>\n      <td>NaN</td>\n      <td>NaN</td>\n      <td>NaN</td>\n      <td>Adapted from Valpy et al., 2017</td>\n      <td>and Hundleby et al., 2019</td>\n      <td>Beiter et al. 2020</td>\n      <td>NaN</td>\n      <td>NaN</td>\n      <td>NaN</td>\n      <td>...</td>\n      <td>NaN</td>\n      <td>NaN</td>\n      <td>NaN</td>\n      <td>NaN</td>\n      <td>NaN</td>\n      <td>NaN</td>\n      <td>NaN</td>\n      <td>NaN</td>\n      <td>NaN</td>\n      <td>NaN</td>\n    </tr>\n    <tr>\n      <th>584</th>\n      <td>Construction Finance Factor</td>\n      <td>NaN</td>\n      <td>NaN</td>\n      <td>NaN</td>\n      <td>Beiter et al, 2019</td>\n      <td>Beiter et al. 2020</td>\n      <td>NaN</td>\n      <td>NaN</td>\n      <td>NaN</td>\n      <td>NaN</td>\n      <td>...</td>\n      <td>NaN</td>\n      <td>NaN</td>\n      <td>NaN</td>\n      <td>NaN</td>\n      <td>NaN</td>\n      <td>NaN</td>\n      <td>NaN</td>\n      <td>NaN</td>\n      <td>NaN</td>\n      <td>NaN</td>\n    </tr>\n    <tr>\n      <th>767</th>\n      <td>Construction Finance Factor</td>\n      <td>NaN</td>\n      <td>NaN</td>\n      <td>0</td>\n      <td>0</td>\n      <td>0</td>\n      <td>0</td>\n      <td>0</td>\n      <td>0</td>\n      <td>0</td>\n      <td>...</td>\n      <td>0.0</td>\n      <td>0.0</td>\n      <td>0.0</td>\n      <td>0.0</td>\n      <td>0.0</td>\n      <td>0.0</td>\n      <td>0.0</td>\n      <td>0.0</td>\n      <td>0.0</td>\n      <td>0.0</td>\n    </tr>\n  </tbody>\n</table>\n<p>552 rows × 38 columns</p>\n</div>"
     },
     "execution_count": 110,
     "metadata": {},
     "output_type": "execute_result"
    }
   ],
   "source": [
    "sheets[sheet_list[0]]"
   ],
   "metadata": {
    "collapsed": false,
    "pycharm": {
     "name": "#%%\n"
    }
   }
  },
  {
   "cell_type": "code",
   "execution_count": 110,
   "outputs": [],
   "source": [],
   "metadata": {
    "collapsed": false,
    "pycharm": {
     "name": "#%%\n"
    }
   }
  },
  {
   "cell_type": "code",
   "execution_count": 111,
   "outputs": [
    {
     "data": {
      "text/plain": "['Overnight Capital Cost ($/kW)',\n 'Fixed Operation and Maintenance Expenses ($/kW-yr)',\n 'Variable Operation and Maintenance Expenses ($/MWh)']"
     },
     "execution_count": 111,
     "metadata": {},
     "output_type": "execute_result"
    }
   ],
   "source": [
    "index_list"
   ],
   "metadata": {
    "collapsed": false,
    "pycharm": {
     "name": "#%%\n"
    }
   }
  },
  {
   "cell_type": "code",
   "execution_count": 111,
   "outputs": [],
   "source": [],
   "metadata": {
    "collapsed": false,
    "pycharm": {
     "name": "#%%\n"
    }
   }
  }
 ],
 "metadata": {
  "kernelspec": {
   "display_name": "Python 3",
   "language": "python",
   "name": "python3"
  },
  "language_info": {
   "codemirror_mode": {
    "name": "ipython",
    "version": 2
   },
   "file_extension": ".py",
   "mimetype": "text/x-python",
   "name": "python",
   "nbconvert_exporter": "python",
   "pygments_lexer": "ipython2",
   "version": "2.7.6"
  }
 },
 "nbformat": 4,
 "nbformat_minor": 0
}