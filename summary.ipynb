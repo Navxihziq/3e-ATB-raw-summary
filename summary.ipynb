{
 "cells": [
  {
   "cell_type": "markdown",
   "source": [
    "# Summary\n",
    "This notebook is used to automatically extract data from ATB yearly workbook file and generate summary accordingly to the specification."
   ],
   "metadata": {
    "collapsed": false,
    "pycharm": {
     "name": "#%% md\n"
    }
   }
  },
  {
   "cell_type": "markdown",
   "source": [
    "## Getting Ready\n",
    "- Here, we first import the package needed, and identify the path to files;\n",
    "    - 2 paths to files are required here:\n",
    "        1. raw_data_path: the path to the raw data file\n",
    "        2. ancillary_path: the path to the ancillary file which declares the scope of tech and index of interest.\n",
    "\n",
    "- Make 2 lists out of the ancillary file"
   ],
   "metadata": {
    "collapsed": false,
    "pycharm": {
     "name": "#%% md\n"
    }
   }
  },
  {
   "cell_type": "code",
   "execution_count": 90,
   "outputs": [],
   "source": [
    "import pandas as pd"
   ],
   "metadata": {
    "collapsed": false,
    "pycharm": {
     "name": "#%%\n"
    }
   }
  },
  {
   "cell_type": "code",
   "execution_count": 91,
   "outputs": [],
   "source": [
    "raw_data_path = '/Users/zhixuan/PycharmProjects/ATB-Raw-Summarization/data/2022 v2 Annual Technology Baseline Workbook Corrected 7-21-2022.xlsx'\n",
    "\n",
    "ancillary_path = '/Users/zhixuan/PycharmProjects/ATB-Raw-Summarization/data/ancillary.xlsx'\n",
    "\n",
    "raw = pd.ExcelFile(raw_data_path)\n",
    "\n",
    "summary_path = '/Users/zhixuan/PycharmProjects/ATB-Raw-Summarization/data/summary.xlsx'\n",
    "\n",
    "del raw_data_path"
   ],
   "metadata": {
    "collapsed": false,
    "pycharm": {
     "name": "#%%\n"
    }
   }
  },
  {
   "cell_type": "code",
   "execution_count": 92,
   "outputs": [],
   "source": [
    "ancillary = pd.read_excel(ancillary_path)\n",
    "\n",
    "# tech: sheet dictionary\n",
    "tech_sheet_dict = dict(ancillary[['Tech', 'Sheet']].values)\n",
    "\n",
    "# make tech list out of ancillary\n",
    "tech_list = list(ancillary['Tech'].values)\n",
    "\n",
    "# make index list out of ancillary\n",
    "index_list = list(ancillary['Index'].dropna().values)\n",
    "\n",
    "# make year list out of anicllary\n",
    "year_list = list(ancillary['Year'].dropna().values)\n",
    "\n",
    "# flush-flush\n",
    "del ancillary, ancillary_path"
   ],
   "metadata": {
    "collapsed": false,
    "pycharm": {
     "name": "#%%\n"
    }
   }
  },
  {
   "cell_type": "markdown",
   "source": [
    "## Main loop\n",
    "- Iterate over tech sheets needed, and get rid of the extraneous rows.\n",
    "- Make a dictionary of each sheet to store their corresponding dataframe"
   ],
   "metadata": {
    "collapsed": false,
    "pycharm": {
     "name": "#%% md\n"
    }
   }
  },
  {
   "cell_type": "code",
   "execution_count": 93,
   "outputs": [],
   "source": [
    "# get all the name of the sheets -> intersect with tech list\n",
    "sheet_list = list(set(raw.sheet_names) & set(tech_list))\n",
    "sub_tech_list = list(set(tech_list)-set(sheet_list))"
   ],
   "metadata": {
    "collapsed": false,
    "pycharm": {
     "name": "#%%\n"
    }
   }
  },
  {
   "cell_type": "code",
   "execution_count": 94,
   "outputs": [],
   "source": [
    "sheets = {}\n",
    "last_i = None\n",
    "\n",
    "# iterate through all sheets level techs\n",
    "for sheet in sheet_list:\n",
    "    # special specification for storages\n",
    "    if not (sheet.split()[-1] == 'Storage'):\n",
    "        sheet_df = pd.read_excel(raw, sheet_name=str(sheet)).iloc[:, 9:].dropna(how='all')\n",
    "    else:\n",
    "        sheet_df = pd.read_excel(raw, sheet_name=str(sheet)).iloc[:, 3:].dropna(how='all')\n",
    "    index = None\n",
    "    # iterate over rows\n",
    "    for i in range(len(sheet_df)):\n",
    "        # get the value on the current index column\n",
    "        working_index = sheet_df.iloc[i, 0]\n",
    "\n",
    "        if not pd.isna(working_index):\n",
    "            sheet_df.iloc[i-1, 0] = None    # get rid of the header (year) row\n",
    "            if working_index in index_list:\n",
    "                index = working_index\n",
    "                last_i = i\n",
    "            else:\n",
    "                index = None\n",
    "\n",
    "        sheet_df.iloc[i, 0] = index\n",
    "\n",
    "    # get the header\n",
    "    header = list(sheet_df.iloc[last_i-1, :].values)\n",
    "    header[0:3] = ['Index', 'Display Name', 'Scenario']\n",
    "    sheet_df.columns = header\n",
    "\n",
    "    sheet_df = sheet_df.dropna(how='any', subset=['Index']).reset_index(drop=True)\n",
    "    sheets[str(sheet)] = sheet_df"
   ],
   "metadata": {
    "collapsed": false,
    "pycharm": {
     "name": "#%%\n"
    }
   }
  },
  {
   "cell_type": "markdown",
   "source": [
    "- for those tech that is relatively more detailed, we shall first generate a dictionary of its correspondence to the parent sheet it belongs to.\n",
    "- For now, we are trying to match the sub-techs with the sheet which has a name that is most similar to it.\n",
    "- If it can't work, we will switch to some pristine methods for example manual specification. **which is likely the case** (modification on the ancillary file)"
   ],
   "metadata": {
    "collapsed": false,
    "pycharm": {
     "name": "#%% md\n"
    }
   }
  },
  {
   "cell_type": "markdown",
   "source": [
    "- for the main logic, there are generally 4 steps to follow;\n",
    "    1. iterate through all dataframe of different tech (and sub-tech)\n",
    "    2. iterate through different indexes (and select that subset of the dataframe)\n",
    "    3. calculate each year's value as ratio of 2020's\n",
    "    4. write to summary file (the 2020 baseline data and other data are supposed to be organized in different sheets in different ways)"
   ],
   "metadata": {
    "collapsed": false,
    "pycharm": {
     "name": "#%% md\n"
    }
   }
  },
  {
   "cell_type": "code",
   "execution_count": 101,
   "outputs": [
    {
     "name": "stdout",
     "output_type": "stream",
     "text": [
      "a\n",
      "a\n",
      "a\n",
      "a\n",
      "a\n",
      "a\n"
     ]
    }
   ],
   "source": [
    "import collections\n",
    "import numpy as np\n",
    "\n",
    "baseline_year = year_list[0]\n",
    "# make a dictionary-of-dictionaries-of-dictionaries\n",
    "ddd = collections.defaultdict(lambda : collections.defaultdict(dict))\n",
    "\n",
    "debug_session = []\n",
    "\n",
    "# iterate over sheet names and dataframes\n",
    "for tech, df in sheets.items():\n",
    "    # get all unique indexes in the df\n",
    "    indexes = list(df['Index'].unique())\n",
    "    year_dict = {}\n",
    "\n",
    "    # iterate over the indexes\n",
    "    for index in indexes:\n",
    "        index_df = df[(df['Index']==index)]\n",
    "        range_list = [-1, -1]\n",
    "        # iterate over years\n",
    "        for year in year_list[1:]:\n",
    "            try:\n",
    "                target_year = pd.to_numeric(index_df[year])\n",
    "                baseline = pd.to_numeric(index_df[baseline_year])\n",
    "                min_ratio = (target_year/baseline).min()\n",
    "                max_ratio = (target_year/baseline).max()\n",
    "                range_list = [min_ratio, max_ratio]\n",
    "\n",
    "                if index == 'Fixed Operation and Maintenance Expenses ($/kW-yr)' and tech == 'Utility-Scale Battery Storage':\n",
    "                    print('a')\n",
    "                if np.isnan(max_ratio) or np.isnan(min_ratio):\n",
    "                    debug_session.append([str(tech), str(index), str(year)])\n",
    "\n",
    "            except ZeroDivisionError as e:\n",
    "                if (index_df[year]==0).all():\n",
    "                    range_list = [0, 0]\n",
    "                else:\n",
    "                    debug_session.append([str(tech), str(index), str(year)])\n",
    "\n",
    "            finally:\n",
    "                year_dict[str(year)] = range_list.copy()\n",
    "\n",
    "        ddd[index][tech] = year_dict.copy()"
   ],
   "metadata": {
    "collapsed": false,
    "pycharm": {
     "name": "#%%\n"
    }
   }
  },
  {
   "cell_type": "code",
   "execution_count": 102,
   "outputs": [
    {
     "data": {
      "text/plain": "       Pumped Storage Hydropower    Biopower                 Hydropower  \\\n2025.0                [1.0, 1.0]  [1.0, 1.0]  [0.8408964152537147, 1.0]   \n2030.0                [1.0, 1.0]  [1.0, 1.0]  [0.7071067811865478, 1.0]   \n2035.0                [1.0, 1.0]  [1.0, 1.0]   [0.594603557501361, 1.0]   \n2040.0                [1.0, 1.0]  [1.0, 1.0]  [0.5623730565710472, 1.0]   \n2045.0                [1.0, 1.0]  [1.0, 1.0]  [0.5477534639888454, 1.0]   \n2050.0                [1.0, 1.0]  [1.0, 1.0]  [0.5335139260425694, 1.0]   \n\n                                 Land-Based Wind                Solar - CSP  \\\n2025.0                 [0.8997674418604651, 1.0]  [0.8313973063973064, 1.0]   \n2030.0                 [0.7995348837209303, 1.0]  [0.6627946127946127, 1.0]   \n2035.0  [0.7395697674418605, 0.9886598837209302]  [0.6611405723905724, 1.0]   \n2040.0  [0.6796046511627908, 0.9773197674418604]  [0.6594865319865322, 1.0]   \n2045.0  [0.6196395348837209, 0.9659796511627907]  [0.6578324915824919, 1.0]   \n2050.0   [0.5596744186046512, 0.954639534883721]  [0.6561784511784512, 1.0]   \n\n                                   Offshore Wind  \\\n2025.0   [0.821767149670645, 0.9174386759765845]   \n2030.0  [0.7335423729337738, 0.8765710448658974]   \n2035.0  [0.6744077561670052, 0.8491786071258295]   \n2040.0  [0.6298649631774956, 0.8285454188099878]   \n2045.0  [0.5941194587230305, 0.8119873254495772]   \n2050.0  [0.5642628847479636, 0.7981571124802533]   \n\n                            Solar - PV Dist. Comm  \\\n2025.0   [0.7576481043139284, 0.9300351051356408]   \n2030.0   [0.5118328474306393, 0.8997035992794921]   \n2035.0   [0.4890973671219775, 0.8294251203087463]   \n2040.0   [0.4663618868133156, 0.7591466413380002]   \n2045.0  [0.44362640650465374, 0.6888681623672542]   \n2050.0   [0.4208909261959916, 0.6185896833965077]   \n\n                   Utility-Scale Battery Storage  \\\n2025.0  [0.5754451323662406, 0.7710775177325845]   \n2030.0   [0.3892717071889275, 0.689676731232011]   \n2035.0   [0.3649422254896194, 0.689676731232011]   \n2040.0   [0.3406127437903113, 0.689676731232011]   \n2045.0   [0.3162832620910033, 0.689676731232011]   \n2050.0   [0.2919537803916956, 0.689676731232011]   \n\n                               Solar - Utility PV  \n2025.0   [0.7625285197142309, 0.8963493747990888]  \n2030.0   [0.5857721701425453, 0.8819916719469735]  \n2035.0   [0.5583544015728088, 0.8296220092771015]  \n2040.0   [0.5316716642246694, 0.7773039225750643]  \n2045.0    [0.5056280844605274, 0.725035673325092]  \n2050.0  [0.48014376758238364, 0.6728156002787821]  ",
      "text/html": "<div>\n<style scoped>\n    .dataframe tbody tr th:only-of-type {\n        vertical-align: middle;\n    }\n\n    .dataframe tbody tr th {\n        vertical-align: top;\n    }\n\n    .dataframe thead th {\n        text-align: right;\n    }\n</style>\n<table border=\"1\" class=\"dataframe\">\n  <thead>\n    <tr style=\"text-align: right;\">\n      <th></th>\n      <th>Pumped Storage Hydropower</th>\n      <th>Biopower</th>\n      <th>Hydropower</th>\n      <th>Land-Based Wind</th>\n      <th>Solar - CSP</th>\n      <th>Offshore Wind</th>\n      <th>Solar - PV Dist. Comm</th>\n      <th>Utility-Scale Battery Storage</th>\n      <th>Solar - Utility PV</th>\n    </tr>\n  </thead>\n  <tbody>\n    <tr>\n      <th>2025.0</th>\n      <td>[1.0, 1.0]</td>\n      <td>[1.0, 1.0]</td>\n      <td>[0.8408964152537147, 1.0]</td>\n      <td>[0.8997674418604651, 1.0]</td>\n      <td>[0.8313973063973064, 1.0]</td>\n      <td>[0.821767149670645, 0.9174386759765845]</td>\n      <td>[0.7576481043139284, 0.9300351051356408]</td>\n      <td>[0.5754451323662406, 0.7710775177325845]</td>\n      <td>[0.7625285197142309, 0.8963493747990888]</td>\n    </tr>\n    <tr>\n      <th>2030.0</th>\n      <td>[1.0, 1.0]</td>\n      <td>[1.0, 1.0]</td>\n      <td>[0.7071067811865478, 1.0]</td>\n      <td>[0.7995348837209303, 1.0]</td>\n      <td>[0.6627946127946127, 1.0]</td>\n      <td>[0.7335423729337738, 0.8765710448658974]</td>\n      <td>[0.5118328474306393, 0.8997035992794921]</td>\n      <td>[0.3892717071889275, 0.689676731232011]</td>\n      <td>[0.5857721701425453, 0.8819916719469735]</td>\n    </tr>\n    <tr>\n      <th>2035.0</th>\n      <td>[1.0, 1.0]</td>\n      <td>[1.0, 1.0]</td>\n      <td>[0.594603557501361, 1.0]</td>\n      <td>[0.7395697674418605, 0.9886598837209302]</td>\n      <td>[0.6611405723905724, 1.0]</td>\n      <td>[0.6744077561670052, 0.8491786071258295]</td>\n      <td>[0.4890973671219775, 0.8294251203087463]</td>\n      <td>[0.3649422254896194, 0.689676731232011]</td>\n      <td>[0.5583544015728088, 0.8296220092771015]</td>\n    </tr>\n    <tr>\n      <th>2040.0</th>\n      <td>[1.0, 1.0]</td>\n      <td>[1.0, 1.0]</td>\n      <td>[0.5623730565710472, 1.0]</td>\n      <td>[0.6796046511627908, 0.9773197674418604]</td>\n      <td>[0.6594865319865322, 1.0]</td>\n      <td>[0.6298649631774956, 0.8285454188099878]</td>\n      <td>[0.4663618868133156, 0.7591466413380002]</td>\n      <td>[0.3406127437903113, 0.689676731232011]</td>\n      <td>[0.5316716642246694, 0.7773039225750643]</td>\n    </tr>\n    <tr>\n      <th>2045.0</th>\n      <td>[1.0, 1.0]</td>\n      <td>[1.0, 1.0]</td>\n      <td>[0.5477534639888454, 1.0]</td>\n      <td>[0.6196395348837209, 0.9659796511627907]</td>\n      <td>[0.6578324915824919, 1.0]</td>\n      <td>[0.5941194587230305, 0.8119873254495772]</td>\n      <td>[0.44362640650465374, 0.6888681623672542]</td>\n      <td>[0.3162832620910033, 0.689676731232011]</td>\n      <td>[0.5056280844605274, 0.725035673325092]</td>\n    </tr>\n    <tr>\n      <th>2050.0</th>\n      <td>[1.0, 1.0]</td>\n      <td>[1.0, 1.0]</td>\n      <td>[0.5335139260425694, 1.0]</td>\n      <td>[0.5596744186046512, 0.954639534883721]</td>\n      <td>[0.6561784511784512, 1.0]</td>\n      <td>[0.5642628847479636, 0.7981571124802533]</td>\n      <td>[0.4208909261959916, 0.6185896833965077]</td>\n      <td>[0.2919537803916956, 0.689676731232011]</td>\n      <td>[0.48014376758238364, 0.6728156002787821]</td>\n    </tr>\n  </tbody>\n</table>\n</div>"
     },
     "execution_count": 102,
     "metadata": {},
     "output_type": "execute_result"
    }
   ],
   "source": [
    "pd.DataFrame(ddd[index_list[1]])"
   ],
   "metadata": {
    "collapsed": false,
    "pycharm": {
     "name": "#%%\n"
    }
   }
  },
  {
   "cell_type": "code",
   "execution_count": 103,
   "outputs": [],
   "source": [
    "# iterate over the out most layer of the 3-d dictionary\n",
    "with pd.ExcelWriter(summary_path, mode='w') as writer:\n",
    "    for index, index_dict in ddd.items():\n",
    "        index_df = pd.DataFrame(index_dict)\n",
    "        index_df.to_excel(writer, sheet_name=''.join(x+' 'for x in str(index).split()[:2]))"
   ],
   "metadata": {
    "collapsed": false,
    "pycharm": {
     "name": "#%%\n"
    }
   }
  },
  {
   "cell_type": "code",
   "execution_count": 104,
   "outputs": [
    {
     "data": {
      "text/plain": "{'2025.0': [0.5754451323662406, 0.7710775177325845],\n '2030.0': [0.3892717071889275, 0.689676731232011],\n '2035.0': [0.3649422254896194, 0.689676731232011],\n '2040.0': [0.3406127437903113, 0.689676731232011],\n '2045.0': [0.3162832620910033, 0.689676731232011],\n '2050.0': [0.2919537803916956, 0.689676731232011]}"
     },
     "execution_count": 104,
     "metadata": {},
     "output_type": "execute_result"
    }
   ],
   "source": [
    "ddd['Fixed Operation and Maintenance Expenses ($/kW-yr)']['Utility-Scale Battery Storage']"
   ],
   "metadata": {
    "collapsed": false,
    "pycharm": {
     "name": "#%%\n"
    }
   }
  },
  {
   "cell_type": "code",
   "execution_count": 105,
   "outputs": [
    {
     "data": {
      "text/plain": "[['Hydropower',\n  'Variable Operation and Maintenance Expenses ($/MWh)',\n  '2025.0'],\n ['Hydropower',\n  'Variable Operation and Maintenance Expenses ($/MWh)',\n  '2030.0'],\n ['Hydropower',\n  'Variable Operation and Maintenance Expenses ($/MWh)',\n  '2035.0'],\n ['Hydropower',\n  'Variable Operation and Maintenance Expenses ($/MWh)',\n  '2040.0'],\n ['Hydropower',\n  'Variable Operation and Maintenance Expenses ($/MWh)',\n  '2045.0'],\n ['Hydropower',\n  'Variable Operation and Maintenance Expenses ($/MWh)',\n  '2050.0'],\n ['Land-Based Wind',\n  'Variable Operation and Maintenance Expenses ($/MWh)',\n  '2025.0'],\n ['Land-Based Wind',\n  'Variable Operation and Maintenance Expenses ($/MWh)',\n  '2030.0'],\n ['Land-Based Wind',\n  'Variable Operation and Maintenance Expenses ($/MWh)',\n  '2035.0'],\n ['Land-Based Wind',\n  'Variable Operation and Maintenance Expenses ($/MWh)',\n  '2040.0'],\n ['Land-Based Wind',\n  'Variable Operation and Maintenance Expenses ($/MWh)',\n  '2045.0'],\n ['Land-Based Wind',\n  'Variable Operation and Maintenance Expenses ($/MWh)',\n  '2050.0'],\n ['Offshore Wind',\n  'Variable Operation and Maintenance Expenses ($/MWh)',\n  '2025.0'],\n ['Offshore Wind',\n  'Variable Operation and Maintenance Expenses ($/MWh)',\n  '2030.0'],\n ['Offshore Wind',\n  'Variable Operation and Maintenance Expenses ($/MWh)',\n  '2035.0'],\n ['Offshore Wind',\n  'Variable Operation and Maintenance Expenses ($/MWh)',\n  '2040.0'],\n ['Offshore Wind',\n  'Variable Operation and Maintenance Expenses ($/MWh)',\n  '2045.0'],\n ['Offshore Wind',\n  'Variable Operation and Maintenance Expenses ($/MWh)',\n  '2050.0'],\n ['Solar - PV Dist. Comm',\n  'Variable Operation and Maintenance Expenses ($/MWh)',\n  '2025.0'],\n ['Solar - PV Dist. Comm',\n  'Variable Operation and Maintenance Expenses ($/MWh)',\n  '2030.0'],\n ['Solar - PV Dist. Comm',\n  'Variable Operation and Maintenance Expenses ($/MWh)',\n  '2035.0'],\n ['Solar - PV Dist. Comm',\n  'Variable Operation and Maintenance Expenses ($/MWh)',\n  '2040.0'],\n ['Solar - PV Dist. Comm',\n  'Variable Operation and Maintenance Expenses ($/MWh)',\n  '2045.0'],\n ['Solar - PV Dist. Comm',\n  'Variable Operation and Maintenance Expenses ($/MWh)',\n  '2050.0'],\n ['Utility-Scale Battery Storage',\n  'Variable Operation and Maintenance Expenses ($/MWh)',\n  '2025.0'],\n ['Utility-Scale Battery Storage',\n  'Variable Operation and Maintenance Expenses ($/MWh)',\n  '2030.0'],\n ['Utility-Scale Battery Storage',\n  'Variable Operation and Maintenance Expenses ($/MWh)',\n  '2035.0'],\n ['Utility-Scale Battery Storage',\n  'Variable Operation and Maintenance Expenses ($/MWh)',\n  '2040.0'],\n ['Utility-Scale Battery Storage',\n  'Variable Operation and Maintenance Expenses ($/MWh)',\n  '2045.0'],\n ['Utility-Scale Battery Storage',\n  'Variable Operation and Maintenance Expenses ($/MWh)',\n  '2050.0'],\n ['Solar - Utility PV',\n  'Variable Operation and Maintenance Expenses ($/MWh)',\n  '2025.0'],\n ['Solar - Utility PV',\n  'Variable Operation and Maintenance Expenses ($/MWh)',\n  '2030.0'],\n ['Solar - Utility PV',\n  'Variable Operation and Maintenance Expenses ($/MWh)',\n  '2035.0'],\n ['Solar - Utility PV',\n  'Variable Operation and Maintenance Expenses ($/MWh)',\n  '2040.0'],\n ['Solar - Utility PV',\n  'Variable Operation and Maintenance Expenses ($/MWh)',\n  '2045.0'],\n ['Solar - Utility PV',\n  'Variable Operation and Maintenance Expenses ($/MWh)',\n  '2050.0']]"
     },
     "execution_count": 105,
     "metadata": {},
     "output_type": "execute_result"
    }
   ],
   "source": [
    "debug_session"
   ],
   "metadata": {
    "collapsed": false,
    "pycharm": {
     "name": "#%%\n"
    }
   }
  },
  {
   "cell_type": "code",
   "execution_count": 106,
   "outputs": [
    {
     "name": "stdout",
     "output_type": "stream",
     "text": [
      "<class 'pandas.core.frame.DataFrame'>\n",
      "Int64Index: 15 entries, 15 to 29\n",
      "Data columns (total 34 columns):\n",
      " #   Column        Non-Null Count  Dtype  \n",
      "---  ------        --------------  -----  \n",
      " 0   Index         15 non-null     object \n",
      " 1   Display Name  15 non-null     object \n",
      " 2   Scenario      15 non-null     object \n",
      " 3   2020.0        15 non-null     float64\n",
      " 4   2021.0        15 non-null     float64\n",
      " 5   2022          15 non-null     object \n",
      " 6   2023.0        15 non-null     float64\n",
      " 7   2024.0        15 non-null     float64\n",
      " 8   2025          15 non-null     object \n",
      " 9   2026.0        15 non-null     float64\n",
      " 10  2027.0        15 non-null     float64\n",
      " 11  2028.0        15 non-null     float64\n",
      " 12  2029.0        15 non-null     float64\n",
      " 13  2030.0        15 non-null     float64\n",
      " 14  2031.0        15 non-null     float64\n",
      " 15  2032.0        15 non-null     float64\n",
      " 16  2033.0        15 non-null     float64\n",
      " 17  2034.0        15 non-null     float64\n",
      " 18  2035.0        15 non-null     float64\n",
      " 19  2036.0        15 non-null     float64\n",
      " 20  2037.0        15 non-null     float64\n",
      " 21  2038.0        15 non-null     float64\n",
      " 22  2039.0        15 non-null     float64\n",
      " 23  2040.0        15 non-null     float64\n",
      " 24  2041.0        15 non-null     float64\n",
      " 25  2042.0        15 non-null     float64\n",
      " 26  2043.0        15 non-null     float64\n",
      " 27  2044.0        15 non-null     float64\n",
      " 28  2045.0        15 non-null     float64\n",
      " 29  2046.0        15 non-null     float64\n",
      " 30  2047.0        15 non-null     float64\n",
      " 31  2048.0        15 non-null     float64\n",
      " 32  2049.0        15 non-null     float64\n",
      " 33  2050.0        15 non-null     float64\n",
      "dtypes: float64(29), object(5)\n",
      "memory usage: 4.1+ KB\n"
     ]
    }
   ],
   "source": [
    "df = sheets['Utility-Scale Battery Storage']\n",
    "df[df['Index']=='Variable Operation and Maintenance Expenses ($/MWh)'].info()"
   ],
   "metadata": {
    "collapsed": false,
    "pycharm": {
     "name": "#%%\n"
    }
   }
  },
  {
   "cell_type": "code",
   "execution_count": 100,
   "outputs": [],
   "source": [],
   "metadata": {
    "collapsed": false,
    "pycharm": {
     "name": "#%%\n"
    }
   }
  }
 ],
 "metadata": {
  "kernelspec": {
   "display_name": "Python 3",
   "language": "python",
   "name": "python3"
  },
  "language_info": {
   "codemirror_mode": {
    "name": "ipython",
    "version": 2
   },
   "file_extension": ".py",
   "mimetype": "text/x-python",
   "name": "python",
   "nbconvert_exporter": "python",
   "pygments_lexer": "ipython2",
   "version": "2.7.6"
  }
 },
 "nbformat": 4,
 "nbformat_minor": 0
}