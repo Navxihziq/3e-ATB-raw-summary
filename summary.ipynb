{
 "cells": [
  {
   "cell_type": "code",
   "execution_count": 80,
   "outputs": [],
   "source": [
    "import pandas as pd"
   ],
   "metadata": {
    "collapsed": false,
    "pycharm": {
     "name": "#%%\n"
    }
   }
  },
  {
   "cell_type": "code",
   "execution_count": 81,
   "outputs": [],
   "source": [
    "path = '/Users/zhixuan/PycharmProjects/ATB-Raw-Summarization/data/summary.xlsx'"
   ],
   "metadata": {
    "collapsed": false,
    "pycharm": {
     "name": "#%%\n"
    }
   }
  },
  {
   "cell_type": "code",
   "execution_count": 90,
   "outputs": [
    {
     "data": {
      "text/plain": "      core_metric_key core_metric_parameter technology_alias  \\\n0       MA*CoFECCS90F                 CAPEX             Coal   \n1       MA*CoFECCS90F                 CAPEX             Coal   \n2       MA*CoFECCS90F                 CAPEX             Coal   \n3       MA*CoFECCS90F                 CAPEX             Coal   \n4       MA*CoFECCS90F                 CAPEX             Coal   \n...               ...                   ...              ...   \n97552   MM6NuarNucler          Variable O&M          Nuclear   \n97553   MM6NuarNucler          Variable O&M          Nuclear   \n97554   MM6NuarNucler          Variable O&M          Nuclear   \n97555   MM6NuarNucler          Variable O&M          Nuclear   \n97556   MM6NuarNucler          Variable O&M          Nuclear   \n\n           display_name  scenario  core_metric_variable  units        value  \n0          Coal-90%-CCS  Advanced                  2020   $/kW  5541.600067  \n1          Coal-90%-CCS  Advanced                  2021   $/kW  5541.600067  \n2          Coal-90%-CCS  Advanced                  2022   $/kW  5170.403865  \n3          Coal-90%-CCS  Advanced                  2023   $/kW  5130.889431  \n4          Coal-90%-CCS  Advanced                  2024   $/kW  5091.374996  \n...                 ...       ...                   ...    ...          ...  \n97552  Nuclear - AP1000  Moderate                  2046  $/MWh     2.840000  \n97553  Nuclear - AP1000  Moderate                  2047  $/MWh     2.840000  \n97554  Nuclear - AP1000  Moderate                  2048  $/MWh     2.840000  \n97555  Nuclear - AP1000  Moderate                  2049  $/MWh     2.840000  \n97556  Nuclear - AP1000  Moderate                  2050  $/MWh     2.840000  \n\n[83607 rows x 8 columns]",
      "text/html": "<div>\n<style scoped>\n    .dataframe tbody tr th:only-of-type {\n        vertical-align: middle;\n    }\n\n    .dataframe tbody tr th {\n        vertical-align: top;\n    }\n\n    .dataframe thead th {\n        text-align: right;\n    }\n</style>\n<table border=\"1\" class=\"dataframe\">\n  <thead>\n    <tr style=\"text-align: right;\">\n      <th></th>\n      <th>core_metric_key</th>\n      <th>core_metric_parameter</th>\n      <th>technology_alias</th>\n      <th>display_name</th>\n      <th>scenario</th>\n      <th>core_metric_variable</th>\n      <th>units</th>\n      <th>value</th>\n    </tr>\n  </thead>\n  <tbody>\n    <tr>\n      <th>0</th>\n      <td>MA*CoFECCS90F</td>\n      <td>CAPEX</td>\n      <td>Coal</td>\n      <td>Coal-90%-CCS</td>\n      <td>Advanced</td>\n      <td>2020</td>\n      <td>$/kW</td>\n      <td>5541.600067</td>\n    </tr>\n    <tr>\n      <th>1</th>\n      <td>MA*CoFECCS90F</td>\n      <td>CAPEX</td>\n      <td>Coal</td>\n      <td>Coal-90%-CCS</td>\n      <td>Advanced</td>\n      <td>2021</td>\n      <td>$/kW</td>\n      <td>5541.600067</td>\n    </tr>\n    <tr>\n      <th>2</th>\n      <td>MA*CoFECCS90F</td>\n      <td>CAPEX</td>\n      <td>Coal</td>\n      <td>Coal-90%-CCS</td>\n      <td>Advanced</td>\n      <td>2022</td>\n      <td>$/kW</td>\n      <td>5170.403865</td>\n    </tr>\n    <tr>\n      <th>3</th>\n      <td>MA*CoFECCS90F</td>\n      <td>CAPEX</td>\n      <td>Coal</td>\n      <td>Coal-90%-CCS</td>\n      <td>Advanced</td>\n      <td>2023</td>\n      <td>$/kW</td>\n      <td>5130.889431</td>\n    </tr>\n    <tr>\n      <th>4</th>\n      <td>MA*CoFECCS90F</td>\n      <td>CAPEX</td>\n      <td>Coal</td>\n      <td>Coal-90%-CCS</td>\n      <td>Advanced</td>\n      <td>2024</td>\n      <td>$/kW</td>\n      <td>5091.374996</td>\n    </tr>\n    <tr>\n      <th>...</th>\n      <td>...</td>\n      <td>...</td>\n      <td>...</td>\n      <td>...</td>\n      <td>...</td>\n      <td>...</td>\n      <td>...</td>\n      <td>...</td>\n    </tr>\n    <tr>\n      <th>97552</th>\n      <td>MM6NuarNucler</td>\n      <td>Variable O&amp;M</td>\n      <td>Nuclear</td>\n      <td>Nuclear - AP1000</td>\n      <td>Moderate</td>\n      <td>2046</td>\n      <td>$/MWh</td>\n      <td>2.840000</td>\n    </tr>\n    <tr>\n      <th>97553</th>\n      <td>MM6NuarNucler</td>\n      <td>Variable O&amp;M</td>\n      <td>Nuclear</td>\n      <td>Nuclear - AP1000</td>\n      <td>Moderate</td>\n      <td>2047</td>\n      <td>$/MWh</td>\n      <td>2.840000</td>\n    </tr>\n    <tr>\n      <th>97554</th>\n      <td>MM6NuarNucler</td>\n      <td>Variable O&amp;M</td>\n      <td>Nuclear</td>\n      <td>Nuclear - AP1000</td>\n      <td>Moderate</td>\n      <td>2048</td>\n      <td>$/MWh</td>\n      <td>2.840000</td>\n    </tr>\n    <tr>\n      <th>97555</th>\n      <td>MM6NuarNucler</td>\n      <td>Variable O&amp;M</td>\n      <td>Nuclear</td>\n      <td>Nuclear - AP1000</td>\n      <td>Moderate</td>\n      <td>2049</td>\n      <td>$/MWh</td>\n      <td>2.840000</td>\n    </tr>\n    <tr>\n      <th>97556</th>\n      <td>MM6NuarNucler</td>\n      <td>Variable O&amp;M</td>\n      <td>Nuclear</td>\n      <td>Nuclear - AP1000</td>\n      <td>Moderate</td>\n      <td>2050</td>\n      <td>$/MWh</td>\n      <td>2.840000</td>\n    </tr>\n  </tbody>\n</table>\n<p>83607 rows × 8 columns</p>\n</div>"
     },
     "execution_count": 90,
     "metadata": {},
     "output_type": "execute_result"
    }
   ],
   "source": [
    "raw = pd.read_excel(\"/Users/zhixuan/PycharmProjects/ATB-Raw-Summarization/data/ATB Raw Data.xlsx\").drop(axis='columns', columns=['core_metric_case', 'crpyears', 'technology', 'techdetail', 'default']).drop_duplicates(keep='first')\n",
    "raw"
   ],
   "metadata": {
    "collapsed": false,
    "pycharm": {
     "name": "#%%\n"
    }
   }
  },
  {
   "cell_type": "markdown",
   "source": [
    "## Join display name groups under same alias having same values\n",
    "1. iterate over alias names\n",
    "2. iterate over years\n",
    "3."
   ],
   "metadata": {
    "collapsed": false,
    "pycharm": {
     "name": "#%% md\n"
    }
   }
  },
  {
   "cell_type": "code",
   "execution_count": 99,
   "outputs": [
    {
     "ename": "KeyboardInterrupt",
     "evalue": "",
     "output_type": "error",
     "traceback": [
      "\u001B[0;31m---------------------------------------------------------------------------\u001B[0m",
      "\u001B[0;31mKeyboardInterrupt\u001B[0m                         Traceback (most recent call last)",
      "Input \u001B[0;32mIn [99]\u001B[0m, in \u001B[0;36m<cell line: 8>\u001B[0;34m()\u001B[0m\n\u001B[1;32m     32\u001B[0m paras_df \u001B[38;5;241m=\u001B[39m years_df[years_df[\u001B[38;5;124m'\u001B[39m\u001B[38;5;124mcore_metric_parameter\u001B[39m\u001B[38;5;124m'\u001B[39m]\u001B[38;5;241m==\u001B[39mp]\n\u001B[1;32m     34\u001B[0m \u001B[38;5;66;03m# if all values are the same\u001B[39;00m\n\u001B[0;32m---> 35\u001B[0m \u001B[38;5;28;01mif\u001B[39;00m \u001B[38;5;129;01mnot\u001B[39;00m (\u001B[43mparas_df\u001B[49m[\u001B[38;5;124m'\u001B[39m\u001B[38;5;124mvalue\u001B[39m\u001B[38;5;124m'\u001B[39m]\u001B[38;5;241m==\u001B[39mparas_df[\u001B[38;5;124m'\u001B[39m\u001B[38;5;124mvalue\u001B[39m\u001B[38;5;124m'\u001B[39m]\u001B[38;5;241m.\u001B[39miloc[\u001B[38;5;241m0\u001B[39m])\u001B[38;5;241m.\u001B[39mall():\n\u001B[1;32m     36\u001B[0m     flag\u001B[38;5;241m=\u001B[39m\u001B[38;5;28;01mFalse\u001B[39;00m\n\u001B[1;32m     37\u001B[0m     \u001B[38;5;28;01mbreak\u001B[39;00m\n",
      "Input \u001B[0;32mIn [99]\u001B[0m, in \u001B[0;36m<cell line: 8>\u001B[0;34m()\u001B[0m\n\u001B[1;32m     32\u001B[0m paras_df \u001B[38;5;241m=\u001B[39m years_df[years_df[\u001B[38;5;124m'\u001B[39m\u001B[38;5;124mcore_metric_parameter\u001B[39m\u001B[38;5;124m'\u001B[39m]\u001B[38;5;241m==\u001B[39mp]\n\u001B[1;32m     34\u001B[0m \u001B[38;5;66;03m# if all values are the same\u001B[39;00m\n\u001B[0;32m---> 35\u001B[0m \u001B[38;5;28;01mif\u001B[39;00m \u001B[38;5;129;01mnot\u001B[39;00m (\u001B[43mparas_df\u001B[49m[\u001B[38;5;124m'\u001B[39m\u001B[38;5;124mvalue\u001B[39m\u001B[38;5;124m'\u001B[39m]\u001B[38;5;241m==\u001B[39mparas_df[\u001B[38;5;124m'\u001B[39m\u001B[38;5;124mvalue\u001B[39m\u001B[38;5;124m'\u001B[39m]\u001B[38;5;241m.\u001B[39miloc[\u001B[38;5;241m0\u001B[39m])\u001B[38;5;241m.\u001B[39mall():\n\u001B[1;32m     36\u001B[0m     flag\u001B[38;5;241m=\u001B[39m\u001B[38;5;28;01mFalse\u001B[39;00m\n\u001B[1;32m     37\u001B[0m     \u001B[38;5;28;01mbreak\u001B[39;00m\n",
      "File \u001B[0;32m_pydevd_bundle/pydevd_cython_darwin_310_64.pyx:1179\u001B[0m, in \u001B[0;36m_pydevd_bundle.pydevd_cython_darwin_310_64.SafeCallWrapper.__call__\u001B[0;34m()\u001B[0m\n",
      "File \u001B[0;32m_pydevd_bundle/pydevd_cython_darwin_310_64.pyx:620\u001B[0m, in \u001B[0;36m_pydevd_bundle.pydevd_cython_darwin_310_64.PyDBFrame.trace_dispatch\u001B[0;34m()\u001B[0m\n",
      "File \u001B[0;32m_pydevd_bundle/pydevd_cython_darwin_310_64.pyx:929\u001B[0m, in \u001B[0;36m_pydevd_bundle.pydevd_cython_darwin_310_64.PyDBFrame.trace_dispatch\u001B[0;34m()\u001B[0m\n",
      "File \u001B[0;32m_pydevd_bundle/pydevd_cython_darwin_310_64.pyx:920\u001B[0m, in \u001B[0;36m_pydevd_bundle.pydevd_cython_darwin_310_64.PyDBFrame.trace_dispatch\u001B[0;34m()\u001B[0m\n",
      "File \u001B[0;32m_pydevd_bundle/pydevd_cython_darwin_310_64.pyx:317\u001B[0m, in \u001B[0;36m_pydevd_bundle.pydevd_cython_darwin_310_64.PyDBFrame.do_wait_suspend\u001B[0;34m()\u001B[0m\n",
      "File \u001B[0;32m/Applications/PyCharm.app/Contents/plugins/python/helpers/pydev/pydevd.py:1155\u001B[0m, in \u001B[0;36mPyDB.do_wait_suspend\u001B[0;34m(self, thread, frame, event, arg, send_suspend_message, is_unhandled_exception)\u001B[0m\n\u001B[1;32m   1152\u001B[0m         from_this_thread\u001B[38;5;241m.\u001B[39mappend(frame_id)\n\u001B[1;32m   1154\u001B[0m \u001B[38;5;28;01mwith\u001B[39;00m \u001B[38;5;28mself\u001B[39m\u001B[38;5;241m.\u001B[39m_threads_suspended_single_notification\u001B[38;5;241m.\u001B[39mnotify_thread_suspended(thread_id, stop_reason):\n\u001B[0;32m-> 1155\u001B[0m     \u001B[38;5;28;43mself\u001B[39;49m\u001B[38;5;241;43m.\u001B[39;49m\u001B[43m_do_wait_suspend\u001B[49m\u001B[43m(\u001B[49m\u001B[43mthread\u001B[49m\u001B[43m,\u001B[49m\u001B[43m \u001B[49m\u001B[43mframe\u001B[49m\u001B[43m,\u001B[49m\u001B[43m \u001B[49m\u001B[43mevent\u001B[49m\u001B[43m,\u001B[49m\u001B[43m \u001B[49m\u001B[43marg\u001B[49m\u001B[43m,\u001B[49m\u001B[43m \u001B[49m\u001B[43msuspend_type\u001B[49m\u001B[43m,\u001B[49m\u001B[43m \u001B[49m\u001B[43mfrom_this_thread\u001B[49m\u001B[43m)\u001B[49m\n",
      "File \u001B[0;32m/Applications/PyCharm.app/Contents/plugins/python/helpers/pydev/pydevd.py:1170\u001B[0m, in \u001B[0;36mPyDB._do_wait_suspend\u001B[0;34m(self, thread, frame, event, arg, suspend_type, from_this_thread)\u001B[0m\n\u001B[1;32m   1167\u001B[0m             \u001B[38;5;28mself\u001B[39m\u001B[38;5;241m.\u001B[39m_call_mpl_hook()\n\u001B[1;32m   1169\u001B[0m         \u001B[38;5;28mself\u001B[39m\u001B[38;5;241m.\u001B[39mprocess_internal_commands()\n\u001B[0;32m-> 1170\u001B[0m         \u001B[43mtime\u001B[49m\u001B[38;5;241;43m.\u001B[39;49m\u001B[43msleep\u001B[49m\u001B[43m(\u001B[49m\u001B[38;5;241;43m0.01\u001B[39;49m\u001B[43m)\u001B[49m\n\u001B[1;32m   1172\u001B[0m \u001B[38;5;28mself\u001B[39m\u001B[38;5;241m.\u001B[39mcancel_async_evaluation(get_current_thread_id(thread), \u001B[38;5;28mstr\u001B[39m(\u001B[38;5;28mid\u001B[39m(frame)))\n\u001B[1;32m   1174\u001B[0m \u001B[38;5;66;03m# process any stepping instructions\u001B[39;00m\n",
      "\u001B[0;31mKeyboardInterrupt\u001B[0m: "
     ]
    }
   ],
   "source": [
    "# get all unique alias names\n",
    "alias = list(raw['technology_alias'].unique())\n",
    "\n",
    "# iterate over different alias names\n",
    "for name in alias:\n",
    "    flag = True\n",
    "\n",
    "    # select the subset of data with same alias names\n",
    "    alias_df = raw[raw['technology_alias']==name]\n",
    "\n",
    "    # get all unique year\n",
    "    years = list(alias_df['core_metric_variable'].unique())\n",
    "\n",
    "    # iterate over each year\n",
    "    for year in years:\n",
    "        if not flag:\n",
    "            break\n",
    "        # get subset of data\n",
    "        years_df = alias_df[alias_df['core_metric_variable']==year]\n",
    "\n",
    "        # get all core metric parameter names\n",
    "        metric_paras = list(years_df['core_metric_parameter'].unique())\n",
    "\n",
    "        # iterate over parameters\n",
    "        for p in metric_paras:\n",
    "            if not flag:\n",
    "                break\n",
    "            # get subset of data\n",
    "            paras_df = years_df[years_df['core_metric_parameter']==p]\n",
    "\n",
    "            # if all values are the same\n",
    "            if not (paras_df['value']==paras_df['value'].iloc[0]).all():\n",
    "                flag=False\n",
    "                break\n",
    "\n",
    "    if flag:\n",
    "        print(name)\n",
    "        raw.loc[raw['technology_alias']==name, 'display_name'] = name\n",
    "\n",
    "raw.drop_duplicates(keep='first', inplace=True, subset=['core_metric_parameter', 'technology_alias', 'core_metric_variable', 'value'])\n",
    "\n",
    "# raw"
   ],
   "metadata": {
    "collapsed": false,
    "pycharm": {
     "name": "#%%\n"
    }
   }
  },
  {
   "cell_type": "markdown",
   "source": [
    "## Extract baseline data (2020) and save to sheet\n",
    "\n",
    "1. query the row of different 'display name' and of year 2020\n",
    "2. try to join the ones under same alias with same value; that is, when all rows of different display names under the same alias are having same value in year 2020, we join these rows;"
   ],
   "metadata": {
    "collapsed": false,
    "pycharm": {
     "name": "#%% md\n"
    }
   }
  },
  {
   "cell_type": "code",
   "execution_count": 83,
   "outputs": [
    {
     "data": {
      "text/plain": "               technology_alias                    display_name        value\n0                          Coal                    Coal-90%-CCS  5541.600067\n1                          Coal                       Coal-IGCC  5327.264195\n2                          Coal                            Coal  3074.941437\n3    Commercial Battery Storage  Commercial Battery Storage 1Hr  1251.613753\n4    Commercial Battery Storage  Commercial Battery Storage 2Hr  1575.158689\n..                          ...                             ...          ...\n192               Offshore Wind         Offshore Wind - Class 5  3953.353364\n193               Offshore Wind         Offshore Wind - Class 6  3925.353262\n194               Offshore Wind         Offshore Wind - Class 7  3960.704072\n195               Offshore Wind         Offshore Wind - Class 8  4896.170393\n196               Offshore Wind         Offshore Wind - Class 9  4985.097886\n\n[197 rows x 3 columns]",
      "text/html": "<div>\n<style scoped>\n    .dataframe tbody tr th:only-of-type {\n        vertical-align: middle;\n    }\n\n    .dataframe tbody tr th {\n        vertical-align: top;\n    }\n\n    .dataframe thead th {\n        text-align: right;\n    }\n</style>\n<table border=\"1\" class=\"dataframe\">\n  <thead>\n    <tr style=\"text-align: right;\">\n      <th></th>\n      <th>technology_alias</th>\n      <th>display_name</th>\n      <th>value</th>\n    </tr>\n  </thead>\n  <tbody>\n    <tr>\n      <th>0</th>\n      <td>Coal</td>\n      <td>Coal-90%-CCS</td>\n      <td>5541.600067</td>\n    </tr>\n    <tr>\n      <th>1</th>\n      <td>Coal</td>\n      <td>Coal-IGCC</td>\n      <td>5327.264195</td>\n    </tr>\n    <tr>\n      <th>2</th>\n      <td>Coal</td>\n      <td>Coal</td>\n      <td>3074.941437</td>\n    </tr>\n    <tr>\n      <th>3</th>\n      <td>Commercial Battery Storage</td>\n      <td>Commercial Battery Storage 1Hr</td>\n      <td>1251.613753</td>\n    </tr>\n    <tr>\n      <th>4</th>\n      <td>Commercial Battery Storage</td>\n      <td>Commercial Battery Storage 2Hr</td>\n      <td>1575.158689</td>\n    </tr>\n    <tr>\n      <th>...</th>\n      <td>...</td>\n      <td>...</td>\n      <td>...</td>\n    </tr>\n    <tr>\n      <th>192</th>\n      <td>Offshore Wind</td>\n      <td>Offshore Wind - Class 5</td>\n      <td>3953.353364</td>\n    </tr>\n    <tr>\n      <th>193</th>\n      <td>Offshore Wind</td>\n      <td>Offshore Wind - Class 6</td>\n      <td>3925.353262</td>\n    </tr>\n    <tr>\n      <th>194</th>\n      <td>Offshore Wind</td>\n      <td>Offshore Wind - Class 7</td>\n      <td>3960.704072</td>\n    </tr>\n    <tr>\n      <th>195</th>\n      <td>Offshore Wind</td>\n      <td>Offshore Wind - Class 8</td>\n      <td>4896.170393</td>\n    </tr>\n    <tr>\n      <th>196</th>\n      <td>Offshore Wind</td>\n      <td>Offshore Wind - Class 9</td>\n      <td>4985.097886</td>\n    </tr>\n  </tbody>\n</table>\n<p>197 rows × 3 columns</p>\n</div>"
     },
     "execution_count": 83,
     "metadata": {},
     "output_type": "execute_result"
    }
   ],
   "source": [
    "# select the subset of data\n",
    "baseline = raw[(raw['core_metric_variable']==2020)&(raw['units']=='$/kW')][['technology_alias', 'display_name', 'value']].drop_duplicates(keep='first').reset_index(drop=True)\n",
    "\n",
    "baseline"
   ],
   "metadata": {
    "collapsed": false,
    "pycharm": {
     "name": "#%%\n"
    }
   }
  },
  {
   "cell_type": "code",
   "execution_count": 85,
   "outputs": [],
   "source": [
    "# get all unique alias names\n",
    "alias = list(baseline['technology_alias'].unique())\n",
    "\n",
    "# iterate over all alias\n",
    "for name in alias:\n",
    "    df = baseline[baseline['technology_alias']==name]\n",
    "    # if all values under the same alias group are the same\n",
    "    if (df['value']==df['value'].iloc[0]).all():\n",
    "        baseline.loc[baseline['technology_alias']==name, 'display_name'] = name\n",
    "\n",
    "baseline = baseline.drop_duplicates(keep='first')\n",
    "\n",
    "# write the baseline data to the baseline sheet of the file\n",
    "baseline[['display_name', 'value']].to_excel(path, sheet_name='baseline', index=False)\n",
    "\n",
    "# give you a look\n",
    "baseline[['display_name', 'value']]"
   ],
   "metadata": {
    "collapsed": false,
    "pycharm": {
     "name": "#%%\n"
    }
   }
  },
  {
   "cell_type": "markdown",
   "source": [
    "## Generate summary sheet for each `core_metric_parameter`\n",
    "\n",
    "1. iterate over each `core_metric_parameter`\n",
    "2. convert data from longform to wideform"
   ],
   "metadata": {
    "collapsed": false,
    "pycharm": {
     "name": "#%% md\n"
    }
   }
  },
  {
   "cell_type": "code",
   "execution_count": 87,
   "outputs": [],
   "source": [
    "# get all unique parameters\n",
    "metric_paras = list(raw['core_metric_parameter'].unique())\n",
    "\n",
    "# iterate over metric parameters\n",
    "for p in metric_paras:\n",
    "    df = raw[raw['core_metric_parameter'] == p].drop(axis='columns', columns=['core_metric_parameter'])\n",
    "    df = df.pivot(index='core_metric_variable', columns=)"
   ],
   "metadata": {
    "collapsed": false,
    "pycharm": {
     "name": "#%%\n"
    }
   }
  },
  {
   "cell_type": "code",
   "execution_count": 105,
   "outputs": [],
   "source": [
    "a = raw['display_name'].unique()"
   ],
   "metadata": {
    "collapsed": false,
    "pycharm": {
     "name": "#%%\n"
    }
   }
  },
  {
   "cell_type": "code",
   "execution_count": null,
   "outputs": [],
   "source": [],
   "metadata": {
    "collapsed": false,
    "pycharm": {
     "name": "#%%\n"
    }
   }
  }
 ],
 "metadata": {
  "kernelspec": {
   "display_name": "Python 3",
   "language": "python",
   "name": "python3"
  },
  "language_info": {
   "codemirror_mode": {
    "name": "ipython",
    "version": 2
   },
   "file_extension": ".py",
   "mimetype": "text/x-python",
   "name": "python",
   "nbconvert_exporter": "python",
   "pygments_lexer": "ipython2",
   "version": "2.7.6"
  }
 },
 "nbformat": 4,
 "nbformat_minor": 0
}