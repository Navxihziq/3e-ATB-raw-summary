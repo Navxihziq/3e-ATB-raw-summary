{
 "cells": [
  {
   "cell_type": "markdown",
   "source": [
    "# Summary\n",
    "This notebook is used to automatically extract data from ATB yearly workbook file and generate summary accordingly to the specification."
   ],
   "metadata": {
    "collapsed": false,
    "pycharm": {
     "name": "#%% md\n"
    }
   }
  },
  {
   "cell_type": "markdown",
   "source": [
    "## Getting Ready\n",
    "Here, we first import the package needed, and identify the path to files;\n",
    "2 paths to files are required here:\n",
    "1. raw_data_path: the path to the raw data file\n",
    "2. ancillary_path: the path to the ancillary file which declares the scope of tech and index of interest."
   ],
   "metadata": {
    "collapsed": false,
    "pycharm": {
     "name": "#%% md\n"
    }
   }
  },
  {
   "cell_type": "code",
   "execution_count": 2,
   "outputs": [],
   "source": [
    "import pandas as pd"
   ],
   "metadata": {
    "collapsed": false,
    "pycharm": {
     "name": "#%%\n"
    }
   }
  },
  {
   "cell_type": "code",
   "execution_count": 4,
   "outputs": [],
   "source": [
    "raw_data_path = '/Users/zhixuan/PycharmProjects/ATB-Raw-Summarization/data/2022 v2 Annual Technology Baseline Workbook Corrected 7-21-2022.xlsx'\n",
    "\n",
    "ancillary_path = '/Users/zhixuan/PycharmProjects/ATB-Raw-Summarization/data/ancillary.xlsx'\n",
    "\n",
    "raw = pd.ExcelFile(raw_data_path)\n",
    "ancillary = pd.read_excel(ancillary_path)"
   ],
   "metadata": {
    "collapsed": false,
    "pycharm": {
     "name": "#%%\n"
    }
   }
  },
  {
   "cell_type": "code",
   "execution_count": 5,
   "outputs": [
    {
     "data": {
      "text/plain": "                               Tech  \\\n0                     Offshore wind   \n1                   Land-based wind   \n2                Solar – Utility PV   \n3             Solar - PV Dist. Comm   \n4                       Solar – CSP   \n5                        Hydropower   \n6                  Nuclear - AP1000   \n7   Nuclear - Small Modular Reactor   \n8                          Biopower   \n9                              Coal   \n10                     Coal-90%-CCS   \n11                        Coal-IGCC   \n12                    NG F-Frame CC   \n13            NG F-Frame CC 90% CCS   \n14   Utility-Scale Battery Storagex   \n15        Pumped Storage Hydropower   \n\n                                                Index  \n0                              Overnight Capital Cost  \n1    Fixed Operation and Maintenance Expenses ($/k...  \n2   Variable Operation and Maintenance Expenses ($...  \n3                                                 NaN  \n4                                                 NaN  \n5                                                 NaN  \n6                                                 NaN  \n7                                                 NaN  \n8                                                 NaN  \n9                                                 NaN  \n10                                                NaN  \n11                                                NaN  \n12                                                NaN  \n13                                                NaN  \n14                                                NaN  \n15                                                NaN  ",
      "text/html": "<div>\n<style scoped>\n    .dataframe tbody tr th:only-of-type {\n        vertical-align: middle;\n    }\n\n    .dataframe tbody tr th {\n        vertical-align: top;\n    }\n\n    .dataframe thead th {\n        text-align: right;\n    }\n</style>\n<table border=\"1\" class=\"dataframe\">\n  <thead>\n    <tr style=\"text-align: right;\">\n      <th></th>\n      <th>Tech</th>\n      <th>Index</th>\n    </tr>\n  </thead>\n  <tbody>\n    <tr>\n      <th>0</th>\n      <td>Offshore wind</td>\n      <td>Overnight Capital Cost</td>\n    </tr>\n    <tr>\n      <th>1</th>\n      <td>Land-based wind</td>\n      <td>Fixed Operation and Maintenance Expenses ($/k...</td>\n    </tr>\n    <tr>\n      <th>2</th>\n      <td>Solar – Utility PV</td>\n      <td>Variable Operation and Maintenance Expenses ($...</td>\n    </tr>\n    <tr>\n      <th>3</th>\n      <td>Solar - PV Dist. Comm</td>\n      <td>NaN</td>\n    </tr>\n    <tr>\n      <th>4</th>\n      <td>Solar – CSP</td>\n      <td>NaN</td>\n    </tr>\n    <tr>\n      <th>5</th>\n      <td>Hydropower</td>\n      <td>NaN</td>\n    </tr>\n    <tr>\n      <th>6</th>\n      <td>Nuclear - AP1000</td>\n      <td>NaN</td>\n    </tr>\n    <tr>\n      <th>7</th>\n      <td>Nuclear - Small Modular Reactor</td>\n      <td>NaN</td>\n    </tr>\n    <tr>\n      <th>8</th>\n      <td>Biopower</td>\n      <td>NaN</td>\n    </tr>\n    <tr>\n      <th>9</th>\n      <td>Coal</td>\n      <td>NaN</td>\n    </tr>\n    <tr>\n      <th>10</th>\n      <td>Coal-90%-CCS</td>\n      <td>NaN</td>\n    </tr>\n    <tr>\n      <th>11</th>\n      <td>Coal-IGCC</td>\n      <td>NaN</td>\n    </tr>\n    <tr>\n      <th>12</th>\n      <td>NG F-Frame CC</td>\n      <td>NaN</td>\n    </tr>\n    <tr>\n      <th>13</th>\n      <td>NG F-Frame CC 90% CCS</td>\n      <td>NaN</td>\n    </tr>\n    <tr>\n      <th>14</th>\n      <td>Utility-Scale Battery Storagex</td>\n      <td>NaN</td>\n    </tr>\n    <tr>\n      <th>15</th>\n      <td>Pumped Storage Hydropower</td>\n      <td>NaN</td>\n    </tr>\n  </tbody>\n</table>\n</div>"
     },
     "execution_count": 5,
     "metadata": {},
     "output_type": "execute_result"
    }
   ],
   "source": [
    "ancillary"
   ],
   "metadata": {
    "collapsed": false,
    "pycharm": {
     "name": "#%%\n"
    }
   }
  },
  {
   "cell_type": "code",
   "execution_count": null,
   "outputs": [],
   "source": [
    "# make"
   ],
   "metadata": {
    "collapsed": false,
    "pycharm": {
     "name": "#%%\n"
    }
   }
  }
 ],
 "metadata": {
  "kernelspec": {
   "display_name": "Python 3",
   "language": "python",
   "name": "python3"
  },
  "language_info": {
   "codemirror_mode": {
    "name": "ipython",
    "version": 2
   },
   "file_extension": ".py",
   "mimetype": "text/x-python",
   "name": "python",
   "nbconvert_exporter": "python",
   "pygments_lexer": "ipython2",
   "version": "2.7.6"
  }
 },
 "nbformat": 4,
 "nbformat_minor": 0
}